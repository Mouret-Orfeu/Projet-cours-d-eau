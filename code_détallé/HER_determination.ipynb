{
 "cells": [
  {
   "cell_type": "code",
   "execution_count": 1,
   "metadata": {},
   "outputs": [],
   "source": [
    "import pandas as pd\n",
    "import geopandas as gpd\n",
    "from shapely.geometry import Point\n"
   ]
  },
  {
   "cell_type": "code",
   "execution_count": 2,
   "metadata": {},
   "outputs": [
    {
     "name": "stderr",
     "output_type": "stream",
     "text": [
      "/tmp/ipykernel_2161977/1920941742.py:1: DtypeWarning: Columns (0,15) have mixed types. Specify dtype option on import or set low_memory=False.\n",
      "  Stations_df = pd.read_csv('data/naiades_export/France_entiere/Stations/StationMesureEauxSurface.csv', sep=',', header=0)\n"
     ]
    }
   ],
   "source": [
    "Stations_df = pd.read_csv('data/naiades_export/France_entiere/Stations/StationMesureEauxSurface.csv', sep=',', header=0)"
   ]
  },
  {
   "cell_type": "code",
   "execution_count": 3,
   "metadata": {},
   "outputs": [
    {
     "name": "stdout",
     "output_type": "stream",
     "text": [
      "Index(['CdStationMesureEauxSurface', 'LbStationMesureEauxSurface',\n",
      "       'DateCreationStationMesureEauxSurface',\n",
      "       'DateMAJInfosStationMesureEauxSurface', 'StStationMesure',\n",
      "       'NomStationMesureEauxSurface', 'FinaliteStationMesureEauxSurface',\n",
      "       'LocPreciseStationMesureEauxSurface',\n",
      "       'CarteLocStationMesureEauxSurface', 'SchemaLocStationMesureEauxSurface',\n",
      "       'AltitudePointCaracteritisque', 'SuperficieBassinVersantTopo',\n",
      "       'SuperficieBassinVersantReel', 'PremierMoisAnneeEtiage',\n",
      "       'PkPointTronconEntiteHydroPrincipale',\n",
      "       'DateArretActiviteStationMesureEauxSurface',\n",
      "       'ComStationMesureEauxSurface',\n",
      "       'ModeObtentionCoordStationMesureEauxSurface',\n",
      "       'NatureStationMesureEauxSurface', 'ClasseDurete', 'CdMasseDEau',\n",
      "       'CdEntiteHydrographique', 'CdTronconHydrographique', 'CdCommune',\n",
      "       'CdBassin', 'DateDuJeuDeDonnee', 'ProducteurDuJeu',\n",
      "       'CoordXStationMesureEauxSurface', 'CoordYStationMesureEauxSurface',\n",
      "       'ProjStationMesureEauxSurface', 'NomEntiteHydrographique',\n",
      "       'TypeCEStationMesureEauxSurface', 'TypEthStationMesureEauxSurface',\n",
      "       'tid', 'CdIntervenant', 'DurStationMesureEauxSurface'],\n",
      "      dtype='object')\n"
     ]
    }
   ],
   "source": [
    "print(Stations_df.columns)\n"
   ]
  },
  {
   "cell_type": "code",
   "execution_count": 4,
   "metadata": {},
   "outputs": [
    {
     "name": "stdout",
     "output_type": "stream",
     "text": [
      "0     41\n",
      "1     41\n",
      "2     41\n",
      "3     41\n",
      "4     41\n",
      "5     41\n",
      "6     41\n",
      "7     41\n",
      "8     41\n",
      "9     41\n",
      "10    41\n",
      "11    41\n",
      "12    41\n",
      "13    41\n",
      "14    41\n",
      "15    41\n",
      "16    41\n",
      "17    41\n",
      "18    41\n",
      "19    39\n",
      "Name: ProjStationMesureEauxSurface, dtype: int64\n"
     ]
    }
   ],
   "source": [
    "print(Stations_df['ProjStationMesureEauxSurface'].head(20))\n"
   ]
  },
  {
   "cell_type": "code",
   "execution_count": 5,
   "metadata": {},
   "outputs": [
    {
     "name": "stdout",
     "output_type": "stream",
     "text": [
      "[41 39 26 40 38]\n"
     ]
    }
   ],
   "source": [
    "print(Stations_df['ProjStationMesureEauxSurface'].unique())\n"
   ]
  },
  {
   "cell_type": "code",
   "execution_count": 6,
   "metadata": {},
   "outputs": [
    {
     "name": "stdout",
     "output_type": "stream",
     "text": [
      "26    34689\n",
      "40      296\n",
      "38      216\n",
      "39      153\n",
      "41       65\n",
      "Name: ProjStationMesureEauxSurface, dtype: int64\n"
     ]
    }
   ],
   "source": [
    "count_df = Stations_df['ProjStationMesureEauxSurface'].value_counts()\n",
    "print(count_df)\n"
   ]
  },
  {
   "cell_type": "markdown",
   "metadata": {},
   "source": [
    "#### Je constitue une liste des noms de station dont la projection n'est pas la principale (il faudra enlever ces stations du dataset Analyse)"
   ]
  },
  {
   "cell_type": "code",
   "execution_count": 7,
   "metadata": {},
   "outputs": [
    {
     "name": "stdout",
     "output_type": "stream",
     "text": [
      "699\n"
     ]
    }
   ],
   "source": [
    "Stations_mauvaise_proj = Stations_df[Stations_df['ProjStationMesureEauxSurface'] != 26]\n",
    "Stations_mauvaise_proj = Stations_mauvaise_proj[['LbStationMesureEauxSurface']]\n",
    "Stations_mauvaise_proj = Stations_mauvaise_proj.drop_duplicates()\n",
    "print(len(Stations_mauvaise_proj))\n"
   ]
  },
  {
   "cell_type": "code",
   "execution_count": 8,
   "metadata": {},
   "outputs": [],
   "source": [
    "Stations_df = Stations_df[~Stations_df['LbStationMesureEauxSurface'].isin(Stations_mauvaise_proj['LbStationMesureEauxSurface'])]\n"
   ]
  },
  {
   "cell_type": "code",
   "execution_count": 9,
   "metadata": {},
   "outputs": [
    {
     "name": "stdout",
     "output_type": "stream",
     "text": [
      "nb de station :  32513\n"
     ]
    }
   ],
   "source": [
    "Stations_df = Stations_df[['LbStationMesureEauxSurface', 'CoordXStationMesureEauxSurface', 'CoordYStationMesureEauxSurface']]\n",
    "\n",
    "unique_values = Stations_df['LbStationMesureEauxSurface'].unique()\n",
    "print(\"nb de station : \",len(unique_values))\n",
    "# print(unique_values)\n"
   ]
  },
  {
   "cell_type": "code",
   "execution_count": 10,
   "metadata": {},
   "outputs": [
    {
     "name": "stdout",
     "output_type": "stream",
     "text": [
      "    CoordXStationMesureEauxSurface  CoordYStationMesureEauxSurface\n",
      "68                        758262.0                       6981286.0\n",
      "69                        728499.0                       6876584.0\n",
      "70                        730436.0                       6558304.0\n",
      "71                        714079.0                       6558750.0\n"
     ]
    }
   ],
   "source": [
    "print(Stations_df[['CoordXStationMesureEauxSurface', 'CoordYStationMesureEauxSurface']].head(4))\n"
   ]
  },
  {
   "cell_type": "code",
   "execution_count": 11,
   "metadata": {},
   "outputs": [
    {
     "name": "stdout",
     "output_type": "stream",
     "text": [
      "        LbStationMesureEauxSurface  CoordXStationMesureEauxSurface  \\\n",
      "68         PRISE D'EAU DANS L'OISE                        758262.0   \n",
      "69       PRISE D'EAU DANS LA MARNE                        728499.0   \n",
      "70  PRISE SURFACE CLAUDE DECLOITRE                        730436.0   \n",
      "71            MAZERIER - LA VERNUE                        714079.0   \n",
      "72           CUSSET - L'ARDOISIERE                        739549.0   \n",
      "\n",
      "    CoordYStationMesureEauxSurface                        geometry  \n",
      "68                       6981286.0  POINT (758262.000 6981286.000)  \n",
      "69                       6876584.0  POINT (728499.000 6876584.000)  \n",
      "70                       6558304.0  POINT (730436.000 6558304.000)  \n",
      "71                       6558750.0  POINT (714079.000 6558750.000)  \n",
      "72                       6551666.0  POINT (739549.000 6551666.000)  \n"
     ]
    }
   ],
   "source": [
    "# Convert DataFrame to GeoDataFrame\n",
    "# Assuming 'CoordXStationMesureEauxSurface' is longitude and 'CoordYStationMesureEauxSurface' is latitude\n",
    "gdf_stations = gpd.GeoDataFrame(\n",
    "    Stations_df,\n",
    "    geometry=gpd.points_from_xy(Stations_df.CoordXStationMesureEauxSurface, Stations_df.CoordYStationMesureEauxSurface)\n",
    ")\n",
    "\n",
    "# Set the coordinate reference system (CRS) for the GeoDataFrame\n",
    "# Lamber-93 EPSG is 2154\n",
    "gdf_stations.set_crs(epsg=2154, inplace=True)\n",
    "\n",
    "# Now you can work with your GeoDataFrame\n",
    "print(gdf_stations.head())"
   ]
  },
  {
   "cell_type": "markdown",
   "metadata": {},
   "source": [
    "### Loading the shapefile\n"
   ]
  },
  {
   "cell_type": "code",
   "execution_count": 12,
   "metadata": {},
   "outputs": [
    {
     "name": "stdout",
     "output_type": "stream",
     "text": [
      "   gid  CdHER1            NomHER1  \\\n",
      "0    1      16              CORSE   \n",
      "1    2      12         ARMORICAIN   \n",
      "2    3      13             LANDES   \n",
      "3    4      14  COTEAUX AQUITAINS   \n",
      "4    5       1           PYRENEES   \n",
      "\n",
      "                                            geometry  \n",
      "0  POLYGON ((1224414.391 6233078.083, 1224660.689...  \n",
      "1  POLYGON ((286251.700 6842481.991, 286094.051 6...  \n",
      "2  MULTIPOLYGON (((384703.699 6501954.878, 384958...  \n",
      "3  POLYGON ((382383.410 6499256.885, 382698.338 6...  \n",
      "4  POLYGON ((366221.881 6259724.762, 371565.281 6...  \n"
     ]
    },
    {
     "data": {
      "text/plain": [
       "<AxesSubplot:>"
      ]
     },
     "execution_count": 12,
     "metadata": {},
     "output_type": "execute_result"
    },
    {
     "data": {
      "image/png": "[encoded data removed]",
      "text/plain": [
       "<Figure size 432x288 with 1 Axes>"
      ]
     },
     "metadata": {
      "needs_background": "light"
     },
     "output_type": "display_data"
    }
   ],
   "source": [
    "# Load the shapefile\n",
    "gdf_regions = gpd.read_file(\"/home/orfeu/Documents/cours/3A/Cours_d_eau/Projet-cours-d-eau/Projet-cours-d-eau/data/naiades_export/HER//Hydroecoregion1.shp\")\n",
    "\n",
    "# Reproject to Lambert-93\n",
    "gdf_regions = gdf_regions.to_crs(epsg=2154)\n",
    "\n",
    "\n",
    "# View the first few records\n",
    "print(gdf_regions.head())\n",
    "\n",
    "\n",
    "# Plotting the regions (optional, for visualization)\n",
    "gdf_regions.plot()"
   ]
  },
  {
   "cell_type": "markdown",
   "metadata": {},
   "source": [
    "### Utiliser la map shapefile pour ajouter les HER au dataframe Station"
   ]
  },
  {
   "cell_type": "code",
   "execution_count": 13,
   "metadata": {},
   "outputs": [
    {
     "name": "stdout",
     "output_type": "stream",
     "text": [
      "        LbStationMesureEauxSurface  CoordXStationMesureEauxSurface  \\\n",
      "68         PRISE D'EAU DANS L'OISE                        758262.0   \n",
      "69       PRISE D'EAU DANS LA MARNE                        728499.0   \n",
      "272          COULONGE SUR CHARENTE                        414916.0   \n",
      "273          COULONGE SUR CHARENTE                        414916.0   \n",
      "274  CANAL DE L'UNIMA SUD-CHARENTE                        397732.0   \n",
      "\n",
      "     CoordYStationMesureEauxSurface                        geometry  \\\n",
      "68                        6981286.0  POINT (758262.000 6981286.000)   \n",
      "69                        6876584.0  POINT (728499.000 6876584.000)   \n",
      "272                       6538509.0  POINT (414916.000 6538509.000)   \n",
      "273                       6538509.0  POINT (414916.000 6538509.000)   \n",
      "274                       6543039.0  POINT (397732.000 6543039.000)   \n",
      "\n",
      "     index_right  gid  CdHER1           NomHER1  \n",
      "68            19   20       9  TABLES CALCAIRES  \n",
      "69            19   20       9  TABLES CALCAIRES  \n",
      "272           19   20       9  TABLES CALCAIRES  \n",
      "273           19   20       9  TABLES CALCAIRES  \n",
      "274           19   20       9  TABLES CALCAIRES  \n"
     ]
    },
    {
     "name": "stderr",
     "output_type": "stream",
     "text": [
      "/usr/lib/python3/dist-packages/IPython/core/interactiveshell.py:3377: FutureWarning: The `op` parameter is deprecated and will be removed in a future release. Please use the `predicate` parameter instead.\n",
      "  if (await self.run_code(code, result,  async_=asy)):\n"
     ]
    }
   ],
   "source": [
    "# Perform a spatial join\n",
    "joined = gpd.sjoin(gdf_stations, gdf_regions, how=\"inner\", op='within')\n",
    "\n",
    "# Check the result\n",
    "print(joined.head())\n"
   ]
  },
  {
   "cell_type": "markdown",
   "metadata": {},
   "source": [
    "### Exploration du dataframe avec les Stations et leur HER "
   ]
  },
  {
   "cell_type": "code",
   "execution_count": 16,
   "metadata": {},
   "outputs": [
    {
     "name": "stdout",
     "output_type": "stream",
     "text": [
      "nb stations :  32385\n",
      "                         NomHER1                   LbStationMesureEauxSurface\n",
      "26299          COTEAUX AQUITAINS          Le Laussou au niveau de Monflanquin\n",
      "21709      JURA-PREALPES DU NORD            SECHET A LA-CHAPELLE-D'ABONDANCE \n",
      "28145                 ARMORICAIN                  LOCH A LOCMARIA-GRAND-CHAMP\n",
      "13862           TABLES CALCAIRES                       RAU DE COLONGE A RAHAY\n",
      "32989                   PYRENEES                           REBENTY A MERIAL 1\n",
      "5001          MASSIF CENTRAL SUD         Le Moulinet au niveau de Decazeville\n",
      "5015          MASSIF CENTRAL SUD  Le Ruisseau de la Daze au niveau d'Espeyrac\n",
      "1826         COTES CALCAIRES EST         ANNEXE DE LA MEUSE À LETANNE (PINAY)\n",
      "16772      JURA-PREALPES DU NORD                          SERAN A TALISSIEU 1\n",
      "32356           TABLES CALCAIRES                       L'ARMANCE A CHAOURCE 2\n",
      "21886              MEDITERRANEEN                LE PRECONIL A SAINTE-MAXIME 3\n",
      "23376           TABLES CALCAIRES      LE RU DE MERDEREAU A CHAMPS SUR MARNE 1\n",
      "25006           TABLES CALCAIRES                      L'ARMANÇON A VERGIGNY 1\n",
      "31228           TABLES CALCAIRES              LE RUCHER A POUILLY-SUR-SERRE 2\n",
      "31514           TABLES CALCAIRES       LE PETIT MORIN A SAINT-CYR-SUR-MORIN 1\n",
      "15673              MEDITERRANEEN                         HUVEAUNE A AUBAGNE 5\n",
      "8275   DEPRESSIONS SEDIMENTAIRES             SERVAGNON A SAINT-REMY-EN-ROLLAT\n",
      "2462                      VOSGES        LE RUISSEAU DU GIESSEN À SAINT-MARTIN\n",
      "10262                 ARMORICAIN                           * à PLOEUC-SUR-LIE\n",
      "29266                 ARMORICAIN                   RAU DU SYNDICAT à BEAUVOIR\n"
     ]
    }
   ],
   "source": [
    "joined_cleaned = joined[['NomHER1', 'LbStationMesureEauxSurface']]\n",
    "\n",
    "joined_cleaned = joined_cleaned.drop_duplicates(subset='LbStationMesureEauxSurface')\n",
    "\n",
    "print(\"nb stations : \",len(joined_cleaned))"
   ]
  }
 ],
 "metadata": {
  "kernelspec": {
   "display_name": "Python 3",
   "language": "python",
   "name": "python3"
  },
  "language_info": {
   "codemirror_mode": {
    "name": "ipython",
    "version": 3
   },
   "file_extension": ".py",
   "mimetype": "text/x-python",
   "name": "python",
   "nbconvert_exporter": "python",
   "pygments_lexer": "ipython3",
   "version": "3.10.12"
  }
 },
 "nbformat": 4,
 "nbformat_minor": 2
}
