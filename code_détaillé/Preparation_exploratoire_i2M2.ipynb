{
 "cells": [
  {
   "cell_type": "code",
   "execution_count": 1,
   "metadata": {},
   "outputs": [],
   "source": [
    "import pandas as pd\n",
    "import geopandas as gpd\n",
    "from shapely.geometry import Point\n",
    "import matplotlib.pyplot as plt\n",
    "import pickle\n"
   ]
  },
  {
   "cell_type": "code",
   "execution_count": 2,
   "metadata": {},
   "outputs": [],
   "source": [
    "Bio_path = '../raw_data/naiades_export/France_entiere/Biologie(i2M2)/resultat.csv'"
   ]
  },
  {
   "cell_type": "code",
   "execution_count": 3,
   "metadata": {},
   "outputs": [
    {
     "name": "stderr",
     "output_type": "stream",
     "text": [
      "/tmp/ipykernel_1113971/1746327959.py:1: DtypeWarning: Columns (0,7) have mixed types. Specify dtype option on import or set low_memory=False.\n",
      "  Bio_df = pd.read_csv(Bio_path, sep=';', header=0)\n"
     ]
    }
   ],
   "source": [
    "Bio_df = pd.read_csv(Bio_path, sep=';', header=0)\n"
   ]
  },
  {
   "cell_type": "code",
   "execution_count": 4,
   "metadata": {},
   "outputs": [
    {
     "data": {
      "text/plain": [
       "Index(['CdStationMesureEauxSurface', 'LbStationMesureEauxSurface',\n",
       "       'CdPointEauxSurf', 'DateDebutOperationPrelBio', 'CdSupport',\n",
       "       'LbSupport', 'DtProdResultatBiologique', 'HeureResultat',\n",
       "       'CdParametreResultatBiologique', 'LbLongParametre',\n",
       "       'ResIndiceResultatBiologique', 'CdUniteMesure', 'SymUniteMesure',\n",
       "       'CdRqIndiceResultatBiologique', 'MnemoRqAna', 'CdMethEval',\n",
       "       'RefOperationPrelBio', 'CdProducteur', 'NomProducteur',\n",
       "       'CdAccredRsIndiceResultatBiologique',\n",
       "       'MnAccredRsIndiceResultatBiologique'],\n",
       "      dtype='object')"
      ]
     },
     "execution_count": 4,
     "metadata": {},
     "output_type": "execute_result"
    }
   ],
   "source": [
    "Bio_df.columns"
   ]
  },
  {
   "cell_type": "code",
   "execution_count": 5,
   "metadata": {},
   "outputs": [
    {
     "name": "stdout",
     "output_type": "stream",
     "text": [
      "['Indice Invertébrés Multimétrique (I2M2)'\n",
      " \"Nombre de taxons contributifs de l'I2M2\"\n",
      " \"Métrique Richesse Taxonomique de l'I2M2\"\n",
      " \"Métrique Ovoviviparite de l'I2M2\" \"Métrique Polyvoltinisme de l'I2M2\"\n",
      " \"Métrique ASPT de l'I2M2\" \"Métrique Indice de Shannon de l'I2M2\"]\n"
     ]
    }
   ],
   "source": [
    "unique_values = Bio_df[Bio_df['LbLongParametre'].str.contains('I2M2', na=False)]['LbLongParametre'].unique()\n",
    "print(unique_values)\n"
   ]
  },
  {
   "cell_type": "markdown",
   "metadata": {},
   "source": [
    "#### Clean up the data"
   ]
  },
  {
   "cell_type": "code",
   "execution_count": 6,
   "metadata": {},
   "outputs": [],
   "source": [
    "Bio_df = Bio_df[Bio_df['LbLongParametre'] == 'Indice Invertébrés Multimétrique (I2M2)']\n",
    "\n",
    "columns_to_keep = ['ResIndiceResultatBiologique', 'LbStationMesureEauxSurface', 'HeureResultat','DateDebutOperationPrelBio']\n",
    "Bio_df = Bio_df[columns_to_keep]\n"
   ]
  },
  {
   "cell_type": "markdown",
   "metadata": {},
   "source": [
    "#### Data Exploration"
   ]
  },
  {
   "cell_type": "code",
   "execution_count": 7,
   "metadata": {},
   "outputs": [
    {
     "name": "stdout",
     "output_type": "stream",
     "text": [
      "NaN Rate:\n",
      " ResIndiceResultatBiologique     0.000000\n",
      "LbStationMesureEauxSurface      0.000000\n",
      "HeureResultat                  66.644361\n",
      "DateDebutOperationPrelBio       0.000000\n",
      "dtype: float64\n",
      "\n",
      "Column Data Types:\n",
      " ResIndiceResultatBiologique    float64\n",
      "LbStationMesureEauxSurface      object\n",
      "HeureResultat                   object\n",
      "DateDebutOperationPrelBio       object\n",
      "dtype: object\n",
      "\n",
      "Statistics for Numerical Columns:\n",
      "        ResIndiceResultatBiologique\n",
      "count                 38854.000000\n",
      "mean                      0.526446\n",
      "std                       0.237405\n",
      "min                       0.000000\n",
      "25%                       0.352325\n",
      "50%                       0.561800\n",
      "75%                       0.718575\n",
      "max                       1.000000\n",
      "\n",
      "Categorical Columns Analysis:\n",
      "\n",
      "Column: LbStationMesureEauxSurface\n",
      " ROTJA A PY                              17\n",
      "La Seye à La Rouquette                  17\n",
      "LOUE A MOUTHIER-HAUTE-PIERRE 1          16\n",
      "ISSOLE A STE-ANASTASIE-SUR-ISSOLE       16\n",
      "La Berlande à Paizay-le-Tort            16\n",
      "                                        ..\n",
      "LE RU DE SAINT-AGNAN A SAINT-AGNAN 1     1\n",
      "TRIPOULIN A TERREHAULT                   1\n",
      "OGNON A SERVANCE 2                       1\n",
      "RUISSEAU DES POMMIERS A ANNECY           1\n",
      "BRONCE à VIEUX-BOURG (LE)                1\n",
      "Name: LbStationMesureEauxSurface, Length: 8803, dtype: int64\n",
      "\n",
      "Column: HeureResultat\n",
      " 00:00:00    12960\n",
      "Name: HeureResultat, dtype: int64\n",
      "\n",
      "Column: DateDebutOperationPrelBio\n",
      " 2020-07-08    129\n",
      "2020-07-07    124\n",
      "2020-07-09    117\n",
      "2016-07-20    112\n",
      "2018-07-04    110\n",
      "             ... \n",
      "2008-10-09      1\n",
      "2019-02-27      1\n",
      "2007-09-25      1\n",
      "2007-09-21      1\n",
      "2021-11-23      1\n",
      "Name: DateDebutOperationPrelBio, Length: 2231, dtype: int64\n"
     ]
    }
   ],
   "source": [
    "# NaN Rate\n",
    "nan_rate = Bio_df.isnull().mean() * 100\n",
    "\n",
    "# Column Data Types\n",
    "column_data_types = Bio_df.dtypes\n",
    "\n",
    "# Statistics on Numerical Columns\n",
    "numerical_stats = Bio_df.describe()\n",
    "\n",
    "# Analysis for Categorical Columns\n",
    "categorical_columns = Bio_df.select_dtypes(include=['object']).columns\n",
    "categorical_analysis = {col: Bio_df[col].value_counts() for col in categorical_columns}\n",
    "\n",
    "# Output Results\n",
    "print(\"NaN Rate:\\n\", nan_rate)\n",
    "print(\"\\nColumn Data Types:\\n\", column_data_types)\n",
    "print(\"\\nStatistics for Numerical Columns:\\n\", numerical_stats)\n",
    "print(\"\\nCategorical Columns Analysis:\")\n",
    "for col, data in categorical_analysis.items():\n",
    "    print(f\"\\nColumn: {col}\\n\", data)\n"
   ]
  },
  {
   "cell_type": "markdown",
   "metadata": {},
   "source": [
    "### Traitement des NaN "
   ]
  },
  {
   "cell_type": "code",
   "execution_count": 8,
   "metadata": {},
   "outputs": [
    {
     "name": "stdout",
     "output_type": "stream",
     "text": [
      "     ResIndiceResultatBiologique LbStationMesureEauxSurface HeureResultat  \\\n",
      "54                         0.205    LA SENSÉE À ETAING (62)      00:00:00   \n",
      "66                         0.236    LA SENSÉE À ETAING (62)      00:00:00   \n",
      "76                         0.096    LA SENSÉE À ETAING (62)      00:00:00   \n",
      "87                         0.183    LA SENSÉE À ETAING (62)      00:00:00   \n",
      "241                        0.403    LA SLACK À RINXENT (62)      00:00:00   \n",
      "\n",
      "    DateDebutOperationPrelBio  \n",
      "54                 2018-07-10  \n",
      "66                 2019-06-26  \n",
      "76                 2020-07-22  \n",
      "87                 2021-07-28  \n",
      "241                2018-07-11  \n"
     ]
    }
   ],
   "source": [
    "# On met toutes les heures Nan à 00:00:00 (toutes les autres heures sont à 00:00:00 de base)\n",
    "\n",
    "# Set NaN values in 'HeureResultat' to midnight ('00:00:00')\n",
    "Bio_df['HeureResultat'] = Bio_df['HeureResultat'].fillna('00:00:00')\n",
    "\n",
    "# Display the DataFrame to verify the changes\n",
    "print(Bio_df.head())\n"
   ]
  },
  {
   "cell_type": "markdown",
   "metadata": {},
   "source": [
    "### Traitement du temps"
   ]
  },
  {
   "cell_type": "code",
   "execution_count": 9,
   "metadata": {},
   "outputs": [
    {
     "name": "stdout",
     "output_type": "stream",
     "text": [
      "     ResIndiceResultatBiologique LbStationMesureEauxSurface       Date\n",
      "54                         0.205    LA SENSÉE À ETAING (62) 2018-07-10\n",
      "66                         0.236    LA SENSÉE À ETAING (62) 2019-06-26\n",
      "76                         0.096    LA SENSÉE À ETAING (62) 2020-07-22\n",
      "87                         0.183    LA SENSÉE À ETAING (62) 2021-07-28\n",
      "241                        0.403    LA SLACK À RINXENT (62) 2018-07-11\n"
     ]
    }
   ],
   "source": [
    "# Concatenate the date and time into a single string\n",
    "Bio_df['Date'] = Bio_df['DateDebutOperationPrelBio'] + ' ' + Bio_df['HeureResultat']\n",
    "\n",
    "# Convert the concatenated string into a DateTime object\n",
    "Bio_df['Date'] = pd.to_datetime(Bio_df['Date'])\n",
    "\n",
    "# Drop the 'DateDebutOperationPrelBio' and 'HeureResultat' columns\n",
    "Bio_df = Bio_df.drop(columns=['DateDebutOperationPrelBio', 'HeureResultat'])\n",
    "\n",
    "# Display the DataFrame to verify the changes\n",
    "print(Bio_df.head())\n"
   ]
  },
  {
   "cell_type": "markdown",
   "metadata": {},
   "source": [
    "#### Détails"
   ]
  },
  {
   "cell_type": "code",
   "execution_count": 10,
   "metadata": {},
   "outputs": [],
   "source": [
    "Bio_df.rename(columns={'ResIndiceResultatBiologique': 'i2M2'}, inplace=True)\n"
   ]
  },
  {
   "cell_type": "markdown",
   "metadata": {},
   "source": [
    "#### Réarrangement du Dataset en time series"
   ]
  },
  {
   "cell_type": "code",
   "execution_count": 11,
   "metadata": {},
   "outputs": [
    {
     "data": {
      "image/png": "[encoded data removed]",
      "text/plain": [
       "<Figure size 720x432 with 1 Axes>"
      ]
     },
     "metadata": {
      "needs_background": "light"
     },
     "output_type": "display_data"
    }
   ],
   "source": [
    "# Group by 'LbStationMesureEauxSurface' and aggregate the lists\n",
    "grouped_df = Bio_df.groupby('LbStationMesureEauxSurface').apply(\n",
    "    lambda x: pd.Series({\n",
    "        'i2M2': list(x.sort_values(by='Date')['i2M2']),\n",
    "        'Date': list(x.sort_values(by='Date')['Date'])\n",
    "    })\n",
    ")\n",
    "\n",
    "# Example of accessing the data for a specific station label\n",
    "station_label = 'LA SENSÉE À ETAING (62)'  # Replace with an actual station label\n",
    "if station_label in grouped_df.index:\n",
    "    # Extracting the data for the specific station\n",
    "    data_for_station = grouped_df.loc[station_label]\n",
    "    dates = data_for_station['Date']\n",
    "    res_indices = data_for_station['i2M2']\n",
    "\n",
    "    # Plotting\n",
    "    plt.figure(figsize=(10, 6))\n",
    "    plt.plot(dates, res_indices, marker='o')  # 'o' for circle markers\n",
    "    plt.title(f\"i2M2 over Time for {station_label}\")\n",
    "    plt.xlabel('Date')\n",
    "    plt.ylabel('i2M2')\n",
    "    plt.xticks(rotation=45)  # Rotates the date labels for better readability\n",
    "    plt.tight_layout()  # Adjusts the plot to ensure everything fits without overlapping\n",
    "    plt.show()\n",
    "else:\n",
    "    print(f\"No data found for station label {station_label}\")\n",
    "\n"
   ]
  },
  {
   "cell_type": "markdown",
   "metadata": {},
   "source": [
    "#### Identifier les stations pour lesquels on a pas d'i2M2"
   ]
  },
  {
   "cell_type": "code",
   "execution_count": 12,
   "metadata": {},
   "outputs": [
    {
     "name": "stderr",
     "output_type": "stream",
     "text": [
      "/tmp/ipykernel_1113971/1487767819.py:1: DtypeWarning: Columns (0,15) have mixed types. Specify dtype option on import or set low_memory=False.\n",
      "  Stations_df = pd.read_csv('../raw_data/naiades_export/France_entiere/Stations/StationMesureEauxSurface.csv', sep=',', header=0)\n",
      "/usr/lib/python3/dist-packages/IPython/core/interactiveshell.py:3377: FutureWarning: The `op` parameter is deprecated and will be removed in a future release. Please use the `predicate` parameter instead.\n",
      "  if (await self.run_code(code, result,  async_=asy)):\n"
     ]
    }
   ],
   "source": [
    "Stations_df = pd.read_csv('../raw_data/naiades_export/France_entiere/Stations/StationMesureEauxSurface.csv', sep=',', header=0)\n",
    "\n",
    "Stations_mauvaise_proj = Stations_df[Stations_df['ProjStationMesureEauxSurface'] != 26]\n",
    "Stations_mauvaise_proj = Stations_mauvaise_proj[['LbStationMesureEauxSurface']]\n",
    "Stations_mauvaise_proj = Stations_mauvaise_proj.drop_duplicates()\n",
    "\n",
    "Stations_df = Stations_df[~Stations_df['LbStationMesureEauxSurface'].isin(Stations_mauvaise_proj['LbStationMesureEauxSurface'])]\n",
    "\n",
    "Stations_df = Stations_df[['LbStationMesureEauxSurface', 'CoordXStationMesureEauxSurface', 'CoordYStationMesureEauxSurface']]\n",
    "\n",
    "# Convert DataFrame to GeoDataFrame\n",
    "# Assuming 'CoordXStationMesureEauxSurface' is longitude and 'CoordYStationMesureEauxSurface' is latitude\n",
    "gdf_stations = gpd.GeoDataFrame(\n",
    "    Stations_df,\n",
    "    geometry=gpd.points_from_xy(Stations_df.CoordXStationMesureEauxSurface, Stations_df.CoordYStationMesureEauxSurface)\n",
    ")\n",
    "\n",
    "# Set the coordinate reference system (CRS) for the GeoDataFrame\n",
    "# Lamber-93 EPSG is 2154\n",
    "gdf_stations.set_crs(epsg=2154, inplace=True)\n",
    "\n",
    "# ### Loading the shapefile\n",
    "# \n",
    "# Load the shapefile\n",
    "gdf_regions = gpd.read_file(\"/home/orfeu/Documents/cours/3A/Cours_d_eau/Projet-cours-d-eau/Projet-cours-d-eau/raw_data/naiades_export/HER//Hydroecoregion1.shp\")\n",
    "\n",
    "# Reproject to Lambert-93\n",
    "gdf_regions = gdf_regions.to_crs(epsg=2154)\n",
    "\n",
    "# ### Utiliser la map shapefile pour ajouter les HER au dataframe Station\n",
    "# Perform a spatial join\n",
    "joined = gpd.sjoin(gdf_stations, gdf_regions, how=\"inner\", op='within')\n",
    "\n",
    "# ### Exploration du dataframe avec les Stations et leur HER \n",
    "joined_cleaned = joined[['NomHER1', 'LbStationMesureEauxSurface']]\n",
    "joined_cleaned = joined_cleaned.drop_duplicates(subset='LbStationMesureEauxSurface')\n",
    "\n",
    "\n",
    "stations_not_in_grouped = joined_cleaned[~joined_cleaned['LbStationMesureEauxSurface'].isin(grouped_df.index)]\n",
    "station_list = stations_not_in_grouped['LbStationMesureEauxSurface'].tolist()\n"
   ]
  },
  {
   "cell_type": "code",
   "execution_count": 13,
   "metadata": {},
   "outputs": [
    {
     "name": "stdout",
     "output_type": "stream",
     "text": [
      "32385\n",
      "8803\n",
      "23637\n"
     ]
    }
   ],
   "source": [
    "print(len(joined_cleaned))\n",
    "print(len(grouped_df.index))\n",
    "print(len(station_list))\n"
   ]
  },
  {
   "cell_type": "markdown",
   "metadata": {},
   "source": [
    "#### Identifier l'HER pour lequel on a le plus d'i2M2"
   ]
  },
  {
   "cell_type": "code",
   "execution_count": 14,
   "metadata": {},
   "outputs": [
    {
     "name": "stdout",
     "output_type": "stream",
     "text": [
      "False\n",
      "['AGNY A NIVOLAS-VERMELLE ', 'AITELENE A AITON ', 'ANZON À GOURNAY', 'ARVE A VEYRIER', \"BIEF D'ENFER A ST ETIENNE SUR REYSSOUZE \", 'BOURBRE A CHAVANOZ ', 'BUGEON A LA-CHAMBRE ', 'CAIROS A SAORGE', 'CHAMBURAZ A CHENS-SUR-LEMAN ', 'COPPY A MAXILLY-SUR-LEMAN 1', 'GRAVONE A AJACCIO 1', 'HERMANCE A CHENS-SUR-LEMAN ', \"L'HOGNEAU À GUSSIGNIES (59)\", \"L'Uhartea à Urrugne (Aval pont RN 10, amont de la confluenc\", \"L'Untxin à Urrugne (Pont du cc Château d'Urtubieà Urrugne\", \"L'YSER À BAMBECQUE (59)\", 'LA LAUTER À LAUTERBOURG (B)', 'LA MARCHE À SAPOGNE-SUR-MARCHE', \"LE COURS D'EAU NUMÉRO 01 DE LA COMMUNE DE GENAINVILLE A HOD\", \"LE COURS D'EAU NUMÉRO 01 DE LA COMMUNE DE VAUCLAIX A MHERE \", \"LE COURS D'EAU NUMÉRO 01 DU MARAIS MAUDIT A MISSY-SUR-AISNE\", 'LE FOSSÉ NUMÉRO 01 DE LA COMMUNE DE GEVROLLES A GEVROLLES ', 'LE LERTZBACH À HEGENHEIM', \"LE RUISSEAU DE L'ÉTANG DE PARFOND RUPT À VIGNEULLES-LES-HA\", 'LE RUISSEAU DE LA CRESSONNIÈRE A SAINT-MARTIN-DE-BIENFAITE-', 'LONGET A VALLEIRY 3', 'La Bidassoa au niveau de Biriatou', 'La Garonne au Pont du Roi', 'La Nivelle au niveau de St Pée sur Nivelle (Usine de traite', 'La Véronne en aval de Riom-ès-Montagnes (Amont du Rhue de ', \"Le Chenal de la Calupeyre au niveau de Saint-Germain d'esteu\", 'Le Grand Isaka à Saint Jean de Luz (Lieu dit Etchetokoborda', 'Le Retjons au niveau de Rion-des-Landes', 'Le Retjons à Rion-des-Landes', \"Le Retjons à l'aval de Rion des Landes\", 'Le Ruisseau de Saint-Martin au niveau de St Hilaire de Lusig', 'Le Ruisseau de la Baquère à St Laurent de Neste', 'Le Ruisseau de la Courbière au niveau de Tarascon sur Ariè', \"Le ruisseau de Paillasse à Belin-Béliet (amont prise d'eau\", 'Le ruisseau de Saint-Pierre au niveau de Châteauneuf-sur-Ch', \"Le ruisseau du Rhy au niveau de Fontenille St-Martin d'Entra\", 'MORGE A SAINT-GINGOLPH 1', 'MOURACHONNE A PEGOMAS ', 'PAMPHIOT A ANTHY-SUR-LEMAN ', 'RAHUR A BOURG-MADAME ', 'RAU DES BARRES OU RAU DES DEUX ETANGS À  APREMONT-SUR-ALLIE', 'REAL MARTIN A PIGNANS', 'REDON A MARGENCEL 1', 'REGINO A FELICETO ', 'RIU DE QUEROL A ENVEITG 2', 'RIU LLAVANERA A PALAU-DE-CERDAGNE ', 'ROUSSES A BEON ', 'RUISSEAU DU FORON A GAILLARD ', 'SEGRE A BOURG-MADAME 2', 'VESUBIE A LANTOSQUE ']\n",
      "8803\n",
      "55\n"
     ]
    }
   ],
   "source": [
    "# test if all stations in grouped_df are in joined_cleaned\n",
    "\n",
    "list_bool = []\n",
    "list_false = []\n",
    "\n",
    "# Iterate over each station label in grouped_df\n",
    "for station_label in grouped_df.index:\n",
    "    # Check if the station label is in the LbStationMesureEauxSurface column of joined_cleaned\n",
    "    if station_label in joined_cleaned['LbStationMesureEauxSurface'].values:\n",
    "        list_bool.append(True)\n",
    "    else:\n",
    "        list_bool.append(False)\n",
    "        list_false.append(station_label)\n",
    "\n",
    "print(all(list_bool))\n",
    "print(list_false)\n",
    "\n",
    "print(len(list_bool))\n",
    "print(len(list_false))"
   ]
  },
  {
   "cell_type": "markdown",
   "metadata": {},
   "source": [
    "#### Test des dataset cleaned enregistrés"
   ]
  },
  {
   "cell_type": "code",
   "execution_count": 15,
   "metadata": {},
   "outputs": [
    {
     "data": {
      "image/png": "[encoded data removed]",
      "text/plain": [
       "<Figure size 720x432 with 1 Axes>"
      ]
     },
     "metadata": {
      "needs_background": "light"
     },
     "output_type": "display_data"
    }
   ],
   "source": [
    "# Load the i2M2_df DataFrame\n",
    "with open(f\"../cleaned_data/2022/i2M2_df.pkl\", 'rb') as file:\n",
    "    i2M2_df = pickle.load(file)\n",
    "\n",
    "\n",
    "# Example of accessing the data for a specific station label\n",
    "station_label = station_label = i2M2_df.index[0]\n",
    "if station_label in grouped_df.index:\n",
    "    # Extracting the data for the specific station\n",
    "    data_for_station = grouped_df.loc[station_label]\n",
    "    dates = data_for_station['Date']\n",
    "    res_indices = data_for_station['i2M2']\n",
    "\n",
    "    # Plotting\n",
    "    plt.figure(figsize=(10, 6))\n",
    "    plt.plot(dates, res_indices, marker='o')  # 'o' for circle markers\n",
    "    plt.title(f\"i2M2 over Time for {station_label}\")\n",
    "    plt.xlabel('Date')\n",
    "    plt.ylabel('i2M2')\n",
    "    plt.xticks(rotation=45)  # Rotates the date labels for better readability\n",
    "    plt.tight_layout()  # Adjusts the plot to ensure everything fits without overlapping\n",
    "    plt.show()\n",
    "else:\n",
    "    print(f\"No data found for station label {station_label}\")"
   ]
  },
  {
   "cell_type": "code",
   "execution_count": 16,
   "metadata": {},
   "outputs": [
    {
     "data": {
      "image/png": "[encoded data removed]",
      "text/plain": [
       "<Figure size 720x432 with 1 Axes>"
      ]
     },
     "metadata": {
      "needs_background": "light"
     },
     "output_type": "display_data"
    }
   ],
   "source": [
    "# Load the i2M2_df DataFrame\n",
    "with open(f\"../cleaned_data/2021/i2M2_df.pkl\", 'rb') as file:\n",
    "    i2M2_df = pickle.load(file)\n",
    "\n",
    "\n",
    "# Example of accessing the data for a specific station label\n",
    "station_label = i2M2_df.index[0]\n",
    "if station_label in grouped_df.index:\n",
    "    # Extracting the data for the specific station\n",
    "    data_for_station = grouped_df.loc[station_label]\n",
    "    dates = data_for_station['Date']\n",
    "    res_indices = data_for_station['i2M2']\n",
    "\n",
    "    # Plotting\n",
    "    plt.figure(figsize=(10, 6))\n",
    "    plt.plot(dates, res_indices, marker='o')  # 'o' for circle markers\n",
    "    plt.title(f\"i2M2 over Time for {station_label}\")\n",
    "    plt.xlabel('Date')\n",
    "    plt.ylabel('i2M2')\n",
    "    plt.xticks(rotation=45)  # Rotates the date labels for better readability\n",
    "    plt.tight_layout()  # Adjusts the plot to ensure everything fits without overlapping\n",
    "    plt.show()\n",
    "else:\n",
    "    print(f\"No data found for station label {station_label}\")"
   ]
  },
  {
   "cell_type": "markdown",
   "metadata": {},
   "source": [
    "On remarque qu'il y a déjà les valeurs de i2M2 pour tous les and dans celui de 2022, 2021 et tous les autres "
   ]
  },
  {
   "cell_type": "code",
   "execution_count": 17,
   "metadata": {},
   "outputs": [
    {
     "data": {
      "text/html": [
       "<div>\n",
       "<style scoped>\n",
       "    .dataframe tbody tr th:only-of-type {\n",
       "        vertical-align: middle;\n",
       "    }\n",
       "\n",
       "    .dataframe tbody tr th {\n",
       "        vertical-align: top;\n",
       "    }\n",
       "\n",
       "    .dataframe thead th {\n",
       "        text-align: right;\n",
       "    }\n",
       "</style>\n",
       "<table border=\"1\" class=\"dataframe\">\n",
       "  <thead>\n",
       "    <tr style=\"text-align: right;\">\n",
       "      <th></th>\n",
       "      <th>i2M2</th>\n",
       "      <th>Date</th>\n",
       "    </tr>\n",
       "    <tr>\n",
       "      <th>LbStationMesureEauxSurface</th>\n",
       "      <th></th>\n",
       "      <th></th>\n",
       "    </tr>\n",
       "  </thead>\n",
       "  <tbody>\n",
       "    <tr>\n",
       "      <th>ABATESCO A SERRA-DI-FIUMORBO</th>\n",
       "      <td>[0.477, 0.657, 0.577, 0.674, 0.646, 0.631, 0.7...</td>\n",
       "      <td>[2012-09-25 00:00:00, 2013-08-22 00:00:00, 201...</td>\n",
       "    </tr>\n",
       "    <tr>\n",
       "      <th>ABER BENOIT à LANNILIS</th>\n",
       "      <td>[0.5116]</td>\n",
       "      <td>[2018-08-29 00:00:00]</td>\n",
       "    </tr>\n",
       "    <tr>\n",
       "      <th>ABER BENOIT à PLABENNEC</th>\n",
       "      <td>[0.6738, 0.6554, 0.5402, 0.7015, 0.6648, 0.732...</td>\n",
       "      <td>[2015-07-16 00:00:00, 2016-08-04 00:00:00, 201...</td>\n",
       "    </tr>\n",
       "    <tr>\n",
       "      <th>ABER BENOIT à PLOUVIEN</th>\n",
       "      <td>[0.6828, 0.6674, 0.7086, 0.6018]</td>\n",
       "      <td>[2015-07-28 00:00:00, 2017-08-21 00:00:00, 201...</td>\n",
       "    </tr>\n",
       "    <tr>\n",
       "      <th>ABER BENOUIC À LANNILIS</th>\n",
       "      <td>[0.5443, 0.4666]</td>\n",
       "      <td>[2019-05-20 00:00:00, 2021-08-30 00:00:00]</td>\n",
       "    </tr>\n",
       "  </tbody>\n",
       "</table>\n",
       "</div>"
      ],
      "text/plain": [
       "                                                                            i2M2  \\\n",
       "LbStationMesureEauxSurface                                                         \n",
       "ABATESCO A SERRA-DI-FIUMORBO   [0.477, 0.657, 0.577, 0.674, 0.646, 0.631, 0.7...   \n",
       "ABER BENOIT à LANNILIS                                                  [0.5116]   \n",
       "ABER BENOIT à PLABENNEC        [0.6738, 0.6554, 0.5402, 0.7015, 0.6648, 0.732...   \n",
       "ABER BENOIT à PLOUVIEN                          [0.6828, 0.6674, 0.7086, 0.6018]   \n",
       "ABER BENOUIC À LANNILIS                                         [0.5443, 0.4666]   \n",
       "\n",
       "                                                                            Date  \n",
       "LbStationMesureEauxSurface                                                        \n",
       "ABATESCO A SERRA-DI-FIUMORBO   [2012-09-25 00:00:00, 2013-08-22 00:00:00, 201...  \n",
       "ABER BENOIT à LANNILIS                                     [2018-08-29 00:00:00]  \n",
       "ABER BENOIT à PLABENNEC        [2015-07-16 00:00:00, 2016-08-04 00:00:00, 201...  \n",
       "ABER BENOIT à PLOUVIEN         [2015-07-28 00:00:00, 2017-08-21 00:00:00, 201...  \n",
       "ABER BENOUIC À LANNILIS               [2019-05-20 00:00:00, 2021-08-30 00:00:00]  "
      ]
     },
     "execution_count": 17,
     "metadata": {},
     "output_type": "execute_result"
    }
   ],
   "source": [
    "i2M2_df.head()"
   ]
  },
  {
   "cell_type": "code",
   "execution_count": 18,
   "metadata": {},
   "outputs": [
    {
     "name": "stdout",
     "output_type": "stream",
     "text": [
      "10\n"
     ]
    },
    {
     "data": {
      "image/png": "[encoded data removed]",
      "text/plain": [
       "<Figure size 720x432 with 1 Axes>"
      ]
     },
     "metadata": {
      "needs_background": "light"
     },
     "output_type": "display_data"
    }
   ],
   "source": [
    "max_lenght = 0 \n",
    "station_max_curve = 0\n",
    "it = 0\n",
    "for station in i2M2_df.index:\n",
    "    data_for_station = grouped_df.loc[station_label]\n",
    "    if len(data_for_station['i2M2']) > max_lenght:\n",
    "        max_lenght = len(data_for_station['i2M2'])\n",
    "        station_max_curve = station\n",
    "   \n",
    "\n",
    "print(max_lenght)\n",
    "\n",
    "# Example of accessing the data for a specific station label\n",
    "station_label = station_max_curve\n",
    "if station_label in grouped_df.index:\n",
    "    # Extracting the data for the specific station\n",
    "    data_for_station = grouped_df.loc[station_label]\n",
    "    dates = data_for_station['Date']\n",
    "    res_indices = data_for_station['i2M2']\n",
    "\n",
    "    # Plotting\n",
    "    plt.figure(figsize=(10, 6))\n",
    "    plt.plot(dates, res_indices, marker='o')  # 'o' for circle markers\n",
    "    plt.title(f\"i2M2 over Time for {station_label}\")\n",
    "    plt.xlabel('Date')\n",
    "    plt.ylabel('i2M2')\n",
    "    plt.xticks(rotation=45)  # Rotates the date labels for better readability\n",
    "    plt.tight_layout()  # Adjusts the plot to ensure everything fits without overlapping\n",
    "    plt.show()\n",
    "else:\n",
    "    print(f\"No data found for station label {station_label}\")\n"
   ]
  },
  {
   "cell_type": "code",
   "execution_count": 22,
   "metadata": {},
   "outputs": [
    {
     "name": "stdout",
     "output_type": "stream",
     "text": [
      "Index(['ABATESCO A SERRA-DI-FIUMORBO ', 'ABER BENOIT à LANNILIS',\n",
      "       'ABER BENOIT à PLABENNEC', 'ABER BENOIT à PLOUVIEN',\n",
      "       'ABER BENOUIC À LANNILIS', 'ABER DE CROZON à TELGRUC-SUR-MER',\n",
      "       'ABER ILDUT à PLOUARZEL', 'ABER WRAC'H À LANARVILY',\n",
      "       'ABER-VRAC'H à LOC-BREVALAIRE', 'ABLOUX à SACIERGES-SAINT-MARTIN',\n",
      "       ...\n",
      "       'YON à DOMPIERRE-SUR-YON', 'YON à LA ROCHE-SUR-YON', 'YON à NESMY',\n",
      "       'YON à ROSNAY', 'YVEL à LOYAT', 'YVEL à SAINT-BRIEUC-DE-MAURON',\n",
      "       'YZERON  A SAINTE FOY LES LYON 1', 'YZERON A OULLINS 1',\n",
      "       'YZERON A OULLINS 2', 'YZERON A STE-FOY-LES-LYON '],\n",
      "      dtype='object', name='LbStationMesureEauxSurface', length=8803)\n"
     ]
    }
   ],
   "source": [
    "print(i2M2_df.index)"
   ]
  },
  {
   "cell_type": "code",
   "execution_count": 5,
   "metadata": {},
   "outputs": [
    {
     "name": "stdout",
     "output_type": "stream",
     "text": [
      "Percentage of constant I2M2 lists: 31.44382596841986%\n",
      "2768\n"
     ]
    }
   ],
   "source": [
    "# Load the i2M2_df DataFrame\n",
    "with open(f\"../cleaned_data/all/df_i2M2_all.pkl\", 'rb') as file:\n",
    "    i2M2_df = pickle.load(file)\n",
    "\n",
    "# Initialize a counter for constant lists\n",
    "constant_list_count = 0\n",
    "list_station_constant = []\n",
    "\n",
    "# Iterate over each row in the DataFrame\n",
    "for index, row in i2M2_df.iterrows():\n",
    "    i2m2_list = row['i2M2']\n",
    "    \n",
    "    # Check if the i2M2 list is constant\n",
    "    if len(i2m2_list) > 0 and all(val == i2m2_list[0] for val in i2m2_list):\n",
    "        constant_list_count += 1\n",
    "        list_station_constant.append(index)\n",
    "\n",
    "# Calculate the percentage of constant lists\n",
    "total_stations = len(i2M2_df)\n",
    "percentage_constant_lists = (constant_list_count / total_stations) * 100\n",
    "\n",
    "print(f\"Percentage of constant I2M2 lists: {percentage_constant_lists}%\")\n",
    "print(len(list_station_constant))"
   ]
  }
 ],
 "metadata": {
  "kernelspec": {
   "display_name": "Python 3",
   "language": "python",
   "name": "python3"
  },
  "language_info": {
   "codemirror_mode": {
    "name": "ipython",
    "version": 3
   },
   "file_extension": ".py",
   "mimetype": "text/x-python",
   "name": "python",
   "nbconvert_exporter": "python",
   "pygments_lexer": "ipython3",
   "version": "3.10.12"
  }
 },
 "nbformat": 4,
 "nbformat_minor": 2
}
