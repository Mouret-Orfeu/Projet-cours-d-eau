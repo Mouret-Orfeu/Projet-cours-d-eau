{
  "cells": [
    {
      "cell_type": "code",
      "execution_count": 1,
      "metadata": {
        "id": "iddBMaWE30AY"
      },
      "outputs": [
        {
          "name": "stderr",
          "output_type": "stream",
          "text": [
            "2024-01-13 12:06:56.945826: I external/local_tsl/tsl/cuda/cudart_stub.cc:31] Could not find cuda drivers on your machine, GPU will not be used.\n",
            "2024-01-13 12:06:57.034896: E external/local_xla/xla/stream_executor/cuda/cuda_dnn.cc:9261] Unable to register cuDNN factory: Attempting to register factory for plugin cuDNN when one has already been registered\n",
            "2024-01-13 12:06:57.034935: E external/local_xla/xla/stream_executor/cuda/cuda_fft.cc:607] Unable to register cuFFT factory: Attempting to register factory for plugin cuFFT when one has already been registered\n",
            "2024-01-13 12:06:57.036354: E external/local_xla/xla/stream_executor/cuda/cuda_blas.cc:1515] Unable to register cuBLAS factory: Attempting to register factory for plugin cuBLAS when one has already been registered\n",
            "2024-01-13 12:06:57.048190: I external/local_tsl/tsl/cuda/cudart_stub.cc:31] Could not find cuda drivers on your machine, GPU will not be used.\n",
            "2024-01-13 12:06:57.048723: I tensorflow/core/platform/cpu_feature_guard.cc:182] This TensorFlow binary is optimized to use available CPU instructions in performance-critical operations.\n",
            "To enable the following instructions: AVX2 FMA, in other operations, rebuild TensorFlow with the appropriate compiler flags.\n",
            "2024-01-13 12:06:58.235577: W tensorflow/compiler/tf2tensorrt/utils/py_utils.cc:38] TF-TRT Warning: Could not find TensorRT\n"
          ]
        },
        {
          "name": "stdout",
          "output_type": "stream",
          "text": [
            "WARNING:tensorflow:From /home/orfeu/Documents/cours/3A/Cours_d_eau/Projet-cours-d-eau/Projet-cours-d-eau/.venv/lib/python3.10/site-packages/tensorflow/python/compat/v2_compat.py:108: disable_resource_variables (from tensorflow.python.ops.variable_scope) is deprecated and will be removed in a future version.\n",
            "Instructions for updating:\n",
            "non-resource variables are not supported in the long term\n"
          ]
        }
      ],
      "source": [
        "# imports\n",
        "import numpy as np\n",
        "import matplotlib.pyplot as plt\n",
        "import pandas as pd\n",
        "from datetime import timedelta\n",
        "import pickle\n",
        "import plotly.graph_objects as go\n",
        "from sklearn.preprocessing import MinMaxScaler\n",
        "from tqdm import tqdm\n",
        "import tensorflow as tf    \n",
        "tf.compat.v1.disable_v2_behavior() \n",
        "import random\n",
        "\n",
        "\n"
      ]
    },
    {
      "cell_type": "markdown",
      "metadata": {},
      "source": [
        "#### definition de fonctions globales"
      ]
    },
    {
      "cell_type": "code",
      "execution_count": 2,
      "metadata": {},
      "outputs": [],
      "source": [
        "def plot(x_list, y_list):\n",
        "    x_axis_list = x_list\n",
        "    y_axis_list = y_list\n",
        "\n",
        "    fig = go.Figure(data=go.Scatter(x=x_axis_list, y=y_axis_list))\n",
        "    fig.update_layout(\n",
        "        xaxis=dict(title='Time'),\n",
        "        yaxis=dict(title='Parameter Value'),\n",
        "    )\n",
        "    fig.show()"
      ]
    },
    {
      "cell_type": "markdown",
      "metadata": {},
      "source": [
        "### Load Data"
      ]
    },
    {
      "cell_type": "code",
      "execution_count": 3,
      "metadata": {
        "colab": {
          "base_uri": "https://localhost:8080/"
        },
        "id": "VaVOXV2-30Ab",
        "outputId": "4b00c153-53d7-400f-c6fa-bf41e81dce77"
      },
      "outputs": [],
      "source": [
        "# Load the df_param_time_series DataFrame\n",
        "with open(f\"../cleaned_data/all/df_param_all.pkl\", 'rb') as file:\n",
        "    df_param_all = pickle.load(file)\n",
        "\n",
        "with open(\"../cleaned_data/all/all_index_list.pkl\", 'rb') as file:\n",
        "    all_index_list = pickle.load(file)\n",
        "\n",
        "with open(\"../cleaned_data/all/df_i2M2_all.pkl\", 'rb') as file:\n",
        "    df_i2M2 = pickle.load(file)\n",
        "    "
      ]
    },
    {
      "cell_type": "markdown",
      "metadata": {},
      "source": [
        "#### Préparation des outils de création de dataset"
      ]
    },
    {
      "cell_type": "code",
      "execution_count": 4,
      "metadata": {},
      "outputs": [],
      "source": [
        "# On enlève les index avec \"Fraction inconnue de l'eau\"\n",
        "for index in all_index_list:\n",
        "    if \"Fraction inconnue de l'eau\" in index:\n",
        "        all_index_list.remove(index)"
      ]
    },
    {
      "cell_type": "code",
      "execution_count": 5,
      "metadata": {},
      "outputs": [],
      "source": [
        "# Definition d'un dictionnaire d'index du df_param_all par clé de station présente dans i2M2\n",
        "dict_station_to_list_index_param = {}\n",
        "\n",
        "for index in all_index_list:\n",
        "    # Retrieve the station name for the current index\n",
        "    station = index[1]\n",
        "    \n",
        "    # If the station is already in the dictionary, append the index to its list\n",
        "    if station in dict_station_to_list_index_param:\n",
        "        dict_station_to_list_index_param[station].append(index)\n",
        "    else:\n",
        "        # Otherwise, initialize a new list with the current index\n",
        "        dict_station_to_list_index_param[station] = [index]"
      ]
    },
    {
      "cell_type": "code",
      "execution_count": 6,
      "metadata": {},
      "outputs": [
        {
          "name": "stdout",
          "output_type": "stream",
          "text": [
            "Parameter: Ammonium, Number of Values: 9564\n",
            "Parameter: Phosphore total, Number of Values: 8009\n",
            "Parameter: Nitrates, Number of Values: 9068\n"
          ]
        }
      ],
      "source": [
        "# Definition d'un dictionnaire d'index du df_param_all par clé de paramètres \n",
        "dict_param_to_list_index_param = {}\n",
        "\n",
        "for index in all_index_list:\n",
        "    # Retrieve the parameter name for the current index\n",
        "    param = index[3]\n",
        "    \n",
        "    # If the parameter is already in the dictionary, append the index to its list\n",
        "    if param in dict_param_to_list_index_param:\n",
        "        dict_param_to_list_index_param[param].append(index)\n",
        "    else:\n",
        "        # Otherwise, initialize a new list with the current index\n",
        "        dict_param_to_list_index_param[param] = [index]\n",
        "\n",
        "for param, index_list in dict_param_to_list_index_param.items():\n",
        "    print(f\"Parameter: {param}, Number of Values: {len(index_list)}\")\n",
        "\n",
        "\n",
        "\n"
      ]
    },
    {
      "cell_type": "code",
      "execution_count": 7,
      "metadata": {},
      "outputs": [],
      "source": [
        "dict_HER_to_param_time_series = {}\n",
        "\n",
        "for index in all_index_list:\n",
        "    # Retrieve the HER name for the current index\n",
        "    HER = index[0]\n",
        "\n",
        "    # If the HER is already in the dictionary, append the index to its list\n",
        "    if HER in dict_HER_to_param_time_series:\n",
        "        dict_HER_to_param_time_series[HER].append(index)\n",
        "    else:\n",
        "        # Otherwise, initialize a new list with the current index\n",
        "        dict_HER_to_param_time_series[HER] = [index]\n",
        "\n",
        "\n",
        "\n",
        "\n",
        "HER_to_HER_id_dict = {HER: random.uniform(0.001, 1) for HER in dict_HER_to_param_time_series}\n",
        "\n",
        "\n",
        "\n",
        "HER_id_to_HER_dict = {HER_id: HER for HER, HER_id in HER_to_HER_id_dict.items()}\n",
        "\n"
      ]
    },
    {
      "cell_type": "code",
      "execution_count": 8,
      "metadata": {},
      "outputs": [],
      "source": [
        "feature_name_Amonnium_Eau_brute = [\n",
        "    \"Ammonium_Eau_brute_min\",\n",
        "    \"Ammonium_Eau_brute_max\",\n",
        "    \"Ammonium_Eau_brute_moy\",\n",
        "    \"Ammonium_Eau_brute_var\",\n",
        "    \"Ammonium_Eau_brute_diff_date\"\n",
        "]\n",
        "\n",
        "feature_name_Amonnium_Pa_filtre_centrifugee= [\n",
        "    \"Ammonium_Phase_aqueuse_de_l_eau_filtrée_centrifugée_min\",\n",
        "    \"Ammonium_Phase_aqueuse_de_l_eau_filtrée_centrifugée_max\",\n",
        "    \"Ammonium_Phase_aqueuse_de_l_eau_filtrée_centrifugée_moy\",\n",
        "    \"Ammonium_Phase_aqueuse_de_l_eau_filtrée_centrifugée_var\",\n",
        "    \"Ammonium_Phase_aqueuse_de_l_eau_filtrée_centrifugée_diff_date\"\n",
        "]\n",
        "\n",
        "# !!! ici ne pas changer l'ordre d'ajout des elements !!!\n",
        "list_of_list_Ammonium_feature_name = [feature_name_Amonnium_Eau_brute, feature_name_Amonnium_Pa_filtre_centrifugee]\n",
        "\n",
        "feature_name_Nitrates_Eau_brute = [\n",
        "    \"Nitrates_Eau_brute_min\",\n",
        "    \"Nitrates_Eau_brute_max\",\n",
        "    \"Nitrates_Eau_brute_moy\",\n",
        "    \"Nitrates_Eau_brute_var\",\n",
        "    \"Nitrates_Eau_brute_diff_date\"\n",
        "]\n",
        "\n",
        "feature_name_Nitrates_Pa_filtre_centrifugee = [\n",
        "    \"Nitrates_Phase_aqueuse_de_l_eau_filtrée_centrifugée_min\",\n",
        "    \"Nitrates_Phase_aqueuse_de_l_eau_filtrée_centrifugée_max\",\n",
        "    \"Nitrates_Phase_aqueuse_de_l_eau_filtrée_centrifugée_moy\",\n",
        "    \"Nitrates_Phase_aqueuse_de_l_eau_filtrée_centrifugée_var\",\n",
        "    \"Nitrates_Phase_aqueuse_de_l_eau_filtrée_centrifugée_diff_date\"\n",
        "]\n",
        "\n",
        "# !!! ici ne pas changer l'ordre d'ajout des elements !!!\n",
        "list_of_list_Nitrates_feature_name = [feature_name_Nitrates_Eau_brute, feature_name_Nitrates_Pa_filtre_centrifugee]\n",
        "\n",
        "\n",
        "feature_name_Phosphore_total_Eau_brute = [\n",
        "    \"Phosphore_total_Eau_brute_min\",\n",
        "    \"Phosphore_total_Eau_brute_max\",\n",
        "    \"Phosphore_total_Eau_brute_moy\",\n",
        "    \"Phosphore_total_Eau_brute_var\",\n",
        "    \"Phosphore_total_Eau_brute_diff_date\"\n",
        "]\n",
        "\n",
        "feature_name_Phosphore_total_Pa_filtre_centrifugee = [\n",
        "    \"Phosphore_total_Phase_aqueuse_de_l_eau_filtrée_centrifugée_min\",\n",
        "    \"Phosphore_total_Phase_aqueuse_de_l_eau_filtrée_centrifugée_max\",\n",
        "    \"Phosphore_total_Phase_aqueuse_de_l_eau_filtrée_centrifugée_moy\",\n",
        "    \"Phosphore_total_Phase_aqueuse_de_l_eau_filtrée_centrifugée_var\",\n",
        "    \"Phosphore_total_Phase_aqueuse_de_l_eau_filtrée_centrifugée_diff_date\"\n",
        "]\n",
        "\n",
        "feature_name_Phosphore_total_M_E_S_brutes = [\n",
        "    \"Phosphore_total_M_E_S_brutes_min\",\n",
        "    \"Phosphore_total_M_E_S_brutes_max\",\n",
        "    \"Phosphore_total_M_E_S_brutes_moy\",\n",
        "    \"Phosphore_total_M_E_S_brutes_var\",\n",
        "    \"Phosphore_total_M_E_S_brutes_diff_date\"\n",
        "]\n",
        "\n",
        "feature_name_Phosphore_total_Particule_2_mm_de_sédiments = [\n",
        "    \"Phosphore_total_Particule_2_mm_de_sédiments_min\",\n",
        "    \"Phosphore_total_Particule_2_mm_de_sédiments_max\",\n",
        "    \"Phosphore_total_Particule_2_mm_de_sédiments_moy\",\n",
        "    \"Phosphore_total_Particule_2_mm_de_sédiments_var\",\n",
        "    \"Phosphore_total_Particule_2_mm_de_sédiments_diff_date\"\n",
        "]\n",
        "\n",
        "feature_name_Phosphore_total_Matière_sèche_de_particules_2_mm = [\n",
        "    \"Phosphore_total_Matière_sèche_de_particules_2_mm_min\",\n",
        "    \"Phosphore_total_Matière_sèche_de_particules_2_mm_max\",\n",
        "    \"Phosphore_total_Matière_sèche_de_particules_2_mm_moy\",\n",
        "    \"Phosphore_total_Matière_sèche_de_particules_2_mm_var\",\n",
        "    \"Phosphore_total_Matière_sèche_de_particules_2_mm_diff_date\"\n",
        "]\n",
        "\n",
        "# !!! ici ne pas changer l'ordre d'ajout des elements !!!\n",
        "list_of_list_Phos_feature_name = [feature_name_Phosphore_total_Eau_brute, feature_name_Phosphore_total_Pa_filtre_centrifugee, feature_name_Phosphore_total_M_E_S_brutes, feature_name_Phosphore_total_Particule_2_mm_de_sédiments, feature_name_Phosphore_total_Matière_sèche_de_particules_2_mm]\n",
        "\n",
        "feature_name_Eau_brute = feature_name_Amonnium_Eau_brute + feature_name_Nitrates_Eau_brute + feature_name_Phosphore_total_Eau_brute\n",
        "feature_name_pa_filtre_centrifugee = feature_name_Amonnium_Pa_filtre_centrifugee + feature_name_Nitrates_Pa_filtre_centrifugee + feature_name_Phosphore_total_Pa_filtre_centrifugee\n",
        "\n",
        "\n",
        "# !!! ici ne pas échanger l'ordre des lignes !!!\n",
        "list_fraction = [\n",
        "    \"Eau brute\", \n",
        "    \"Phase aqueuse de l'eau (filtrée, centrifugée...)\", \n",
        "    'M.E.S. brutes',\n",
        "    'Particule < 2 mm de sédiments',\n",
        "    'Matière sèche de particules < 2 mm'  \n",
        "]\n",
        "\n",
        "list_fraction_Eau_brute = [ list_fraction[0] , list_fraction[0] , list_fraction[0]]\n"
      ]
    },
    {
      "cell_type": "markdown",
      "metadata": {},
      "source": [
        "#### Pour tester toutes les combinaison des fractions des 3paramètres on crée la liste des nomns de paramètres de ces combinaisons"
      ]
    },
    {
      "cell_type": "code",
      "execution_count": 9,
      "metadata": {},
      "outputs": [],
      "source": [
        "def create_feature_name_combinations(ammonium_list, nitrates_list, phosphorus_list, list_fraction_names):\n",
        "    feature_combinations = []\n",
        "    for i, nitrates_features in enumerate(ammonium_list):\n",
        "        for j,  ammonium_features in enumerate(nitrates_list):\n",
        "            for k, phosphorus_features in enumerate(phosphorus_list):\n",
        "                combination = ammonium_features + nitrates_features + phosphorus_features\n",
        "                fractions = [list_fraction_names[i], list_fraction_names[j], list_fraction_names[k]]\n",
        "                feature_combinations.append([combination, fractions])\n",
        "\n",
        "    return feature_combinations\n",
        "\n",
        "# Create the combinations\n",
        "feature_combinations = create_feature_name_combinations(list_of_list_Ammonium_feature_name, list_of_list_Nitrates_feature_name, list_of_list_Phos_feature_name, list_fraction)\n"
      ]
    },
    {
      "cell_type": "markdown",
      "metadata": {},
      "source": [
        "## Define Hyperparameters and global variables"
      ]
    },
    {
      "cell_type": "code",
      "execution_count": 10,
      "metadata": {},
      "outputs": [
        {
          "name": "stdout",
          "output_type": "stream",
          "text": [
            "['Nitrates_Phase_aqueuse_de_l_eau_filtrée_centrifugée_min', 'Nitrates_Phase_aqueuse_de_l_eau_filtrée_centrifugée_max', 'Nitrates_Phase_aqueuse_de_l_eau_filtrée_centrifugée_moy', 'Nitrates_Phase_aqueuse_de_l_eau_filtrée_centrifugée_var', 'Nitrates_Phase_aqueuse_de_l_eau_filtrée_centrifugée_diff_date', 'Ammonium_Phase_aqueuse_de_l_eau_filtrée_centrifugée_min', 'Ammonium_Phase_aqueuse_de_l_eau_filtrée_centrifugée_max', 'Ammonium_Phase_aqueuse_de_l_eau_filtrée_centrifugée_moy', 'Ammonium_Phase_aqueuse_de_l_eau_filtrée_centrifugée_var', 'Ammonium_Phase_aqueuse_de_l_eau_filtrée_centrifugée_diff_date', 'Phosphore_total_Eau_brute_min', 'Phosphore_total_Eau_brute_max', 'Phosphore_total_Eau_brute_moy', 'Phosphore_total_Eau_brute_var', 'Phosphore_total_Eau_brute_diff_date', 'her']\n"
          ]
        }
      ],
      "source": [
        "# parameters\n",
        "\n",
        "list_fraction_param = [\"Phase aqueuse de l'eau (filtrée, centrifugée...)\", \"Phase aqueuse de l'eau (filtrée, centrifugée...)\", \"Eau brute\"]\n",
        "\n",
        "target_combination = None\n",
        "for combination, fractions in feature_combinations:\n",
        "    if fractions == list_fraction_param:\n",
        "        target_combination = combination\n",
        "        break\n",
        "\n",
        "features_name = target_combination + ['her']\n",
        "print(features_name)\n",
        "\n",
        "# number of features\n",
        "features = len(features_name)\n",
        "\n",
        "#look back\n",
        "look_back = 1\n",
        "\n",
        "#Nombre d'époch\n",
        "nb_epoch = 2"
      ]
    },
    {
      "cell_type": "markdown",
      "metadata": {},
      "source": [
        "### Création de Dataset et gestion du scaling"
      ]
    },
    {
      "cell_type": "code",
      "execution_count": 11,
      "metadata": {},
      "outputs": [
        {
          "name": "stdout",
          "output_type": "stream",
          "text": [
            "max param:  {'Nitrates': 1290.0, 'Ammonium': 92.0, 'Phosphore total': 5300.0}\n",
            "mean param:  {'Nitrates': 15.129283361277455, 'Ammonium': 0.1307213664463264, 'Phosphore total': 0.4908481816479958}\n"
          ]
        }
      ],
      "source": [
        "# On définie le max de chaque paramètre pour une future normalisation\n",
        "param_name = ['Nitrates', 'Ammonium', 'Phosphore total', 'date_diff']\n",
        "\n",
        "\n",
        "max_nitrates = 0\n",
        "sum_nitrates = 0\n",
        "count_nitrates = 0\n",
        "\n",
        "max_ammonium = 0\n",
        "sum_ammonium = 0\n",
        "count_ammonium = 0\n",
        "\n",
        "max_phosphore_total = 0\n",
        "sum_phosphore_total = 0\n",
        "count_phosphore_total = 0\n",
        "\n",
        "for index in all_index_list:\n",
        "    param = df_param_all.loc[index, 'Value'][0]\n",
        "\n",
        "    if index[3] == param_name[0]:  # Assuming param_name[0] is 'Nitrates'\n",
        "        for value in param:\n",
        "            value = float(value)\n",
        "            sum_nitrates += value\n",
        "            count_nitrates += 1\n",
        "            if value > max_nitrates:\n",
        "                max_nitrates = value\n",
        "\n",
        "    elif index[3] == param_name[1]:  # Assuming param_name[1] is 'Ammonium'\n",
        "        for value in param:\n",
        "            value = float(value)\n",
        "            sum_ammonium += value\n",
        "            count_ammonium += 1\n",
        "            if value > max_ammonium:\n",
        "                max_ammonium = value\n",
        "\n",
        "    elif index[3] == param_name[2]:  # Assuming param_name[2] is 'Phosphore total'\n",
        "        for value in param:\n",
        "            value = float(value)\n",
        "            sum_phosphore_total += value\n",
        "            count_phosphore_total += 1\n",
        "            if value > max_phosphore_total:\n",
        "                max_phosphore_total = value\n",
        "\n",
        "# Calculate the means\n",
        "mean_nitrates = sum_nitrates / count_nitrates if count_nitrates > 0 else 0\n",
        "mean_ammonium = sum_ammonium / count_ammonium if count_ammonium > 0 else 0\n",
        "mean_phosphore_total = sum_phosphore_total / count_phosphore_total if count_phosphore_total > 0 else 0\n",
        "\n",
        "\n",
        "max_param_dict = {'Nitrates':max_nitrates, 'Ammonium':max_ammonium, 'Phosphore total':max_phosphore_total}\n",
        "mean_param_dict = {'Nitrates':mean_nitrates, 'Ammonium':mean_ammonium, 'Phosphore total':mean_phosphore_total}\n",
        "\n",
        "print(\"max param: \",max_param_dict)\n",
        "print(\"mean param: \",mean_param_dict)"
      ]
    },
    {
      "cell_type": "code",
      "execution_count": 12,
      "metadata": {},
      "outputs": [],
      "source": [
        "# Creates the dataset (and scales the data)\n",
        "def create_dataset(df_param, df_i2M2, list_fraction_param_arg):\n",
        "\n",
        "    # DEBUG\n",
        "    date_diff_list = []\n",
        "\n",
        "    X_train_list = []\n",
        "    \n",
        "    Y_train_list = []\n",
        "    Y_train_scalers = []\n",
        "\n",
        "    station_list_for_dataset = []\n",
        "    index_list_for_dataset = []\n",
        "\n",
        "    # For each station on a une courbe i2M2\n",
        "    for station in dict_station_to_list_index_param:\n",
        "        station_list_for_dataset.append(station)\n",
        "\n",
        "        scaler_y = MinMaxScaler(feature_range=(0, 1))\n",
        "\n",
        "        i2M2_curve = np.array(df_i2M2.loc[station]['i2M2'])\n",
        "        i2M2_reshaped = i2M2_curve.reshape(-1, 1)\n",
        "        i2M2_curve_scaled = scaler_y.fit_transform(i2M2_reshaped)\n",
        "\n",
        "        Y_train_list.append(i2M2_curve_scaled)\n",
        "        Y_train_scalers.append(scaler_y)\n",
        "\n",
        "        # Define the order of parameters\n",
        "        param_order = ['Nitrates', 'Ammonium', 'Phosphore total']\n",
        "\n",
        "        i2M2_station_dates = df_i2M2.loc[station]['Date']\n",
        "\n",
        "\n",
        "        X_train_station = []\n",
        "        \n",
        "        # Iterating over the dates\n",
        "        for date in i2M2_station_dates:\n",
        "            input_X = []\n",
        "\n",
        "            # On initialise her à None\n",
        "            her = None\n",
        "            # Convert the date string to a datetime object if it's not already\n",
        "            date_datetime = pd.to_datetime(date)\n",
        "\n",
        "            # Define the date one year earlier\n",
        "            one_year_earlier = date_datetime - timedelta(days=365)\n",
        "\n",
        "            # Pour tous les paramètres physico-chimiques avec la bonne fraction\n",
        "            # Check and add data for each parameter\n",
        "            param_idc = 0\n",
        "            for param in param_order:\n",
        "\n",
        "                current_index = [index for index in dict_station_to_list_index_param[station] if index[3] == param and index[2]== list_fraction_param_arg[param_idc]]\n",
        "                param_idc += 1\n",
        "                \n",
        "                if len(current_index) > 1:\n",
        "                    print(f\"\\033[91mError: Multiple data entries found for parameter {param}, fraction {list_fraction_param_arg[param_idc]} in the station {station}.\\033[0m\")\n",
        "                    print(current_index)\n",
        "                    return\n",
        "                \n",
        "\n",
        "                # Si il y a des données sur ce paramètre dans cette station\n",
        "                if current_index:\n",
        "                    index = current_index[0]\n",
        "\n",
        "                    index_list_for_dataset.append(index)\n",
        "\n",
        "                    param_time_series_values = np.array(df_param_all.loc[index, 'Value'][0])\n",
        "                    # param_time_series_values = df_param_all.loc[index, 'Value'][0]\n",
        "\n",
        "                    param_time_series_dates = df_param_all.loc[index, 'Value'][1]\n",
        "\n",
        "                    if param == 'Nitrates':\n",
        "                        # Convert to a numeric type (e.g., numpy array of floats) before division\n",
        "                        param_time_series_values_scaled = np.array(param_time_series_values, dtype=float) / max_param_dict['Nitrates']\n",
        "                    elif param == 'Ammonium':\n",
        "                        param_time_series_values_scaled = np.array(param_time_series_values, dtype=float) / max_param_dict['Ammonium']\n",
        "                    elif param == 'Phosphore total':\n",
        "                        param_time_series_values_scaled = np.array(param_time_series_values, dtype=float) / max_param_dict['Phosphore total']\n",
        "                    else:\n",
        "                        print(f\"\\033[91mError: other param than 'Nitrates', 'Ammonium' or 'Phosphore total'.\\033[0m\")\n",
        "\n",
        "\n",
        "\n",
        "                    # Filter the values to keep only those within one year before the given date\n",
        "                    filtered_values = [value for value, d in zip(param_time_series_values_scaled, param_time_series_dates) \n",
        "                            if one_year_earlier <= pd.to_datetime(d) <= date_datetime]\n",
        "                        \n",
        "                    if len(filtered_values) != 0:\n",
        "                        min_value = np.min(filtered_values).item()\n",
        "                        max_value = np.max(filtered_values).item()\n",
        "                        moy_value = np.mean(filtered_values).item()\n",
        "                    else:\n",
        "                        min_value = None\n",
        "                        max_value = None\n",
        "                        moy_value = None\n",
        "\n",
        "                    # Variations\n",
        "                    sum_of_variations = 0\n",
        "                    for i in range(1, len(filtered_values)):\n",
        "                        sum_of_variations += filtered_values[i] - filtered_values[i-1]\n",
        "                    \n",
        "                    # Date difference\n",
        "                    # Convert param_time_series_dates to datetime objects\n",
        "                    param_dates_datetime = [pd.to_datetime(d) for d in param_time_series_dates]\n",
        "\n",
        "                    # Filter dates to find those before the given date\n",
        "                    dates_before_given = [d for d in param_dates_datetime if d < date]\n",
        "\n",
        "                    # Find the closest date before the given date\n",
        "                    if dates_before_given:\n",
        "                        closest_date_before = max(dates_before_given)\n",
        "                        date_diff = date - closest_date_before\n",
        "                    else:\n",
        "                        date_diff = -1 \n",
        "\n",
        "                    her = index[0]\n",
        "\n",
        "                    # convert date_diff in int (number of days)\n",
        "                    if date_diff != -1:\n",
        "                        date_diff = date_diff.days\n",
        "                        date_diff_list.append(date_diff)\n",
        "\n",
        "                        # On normalise date_diff par son maxglobal\n",
        "                        date_diff = date_diff / 5005\n",
        "\n",
        "                    # input_X.extend([date_diff, min_value, max_value, sum_of_variations, moy_value])\n",
        "                    input_X.append(min_value)\n",
        "                    input_X.append(max_value)\n",
        "                    input_X.append(moy_value)       \n",
        "                    input_X.append(sum_of_variations)\n",
        "                    input_X.append(date_diff)\n",
        "                    \n",
        "                else:\n",
        "                    # Append None values if parameter data is not available\n",
        "                    input_X.extend([-1] * 5)  # 5 None values for date_diff, min, max, variations, and moy\n",
        "\n",
        "            # input_X.append(HER_to_HER_id_dict[her])\n",
        "            input_X.append(her)\n",
        "            \n",
        "            X_train_station.append(input_X)\n",
        "\n",
        "        X_train_list.append(X_train_station)\n",
        "        \n",
        "\n",
        "    return X_train_list, Y_train_list, Y_train_scalers, station_list_for_dataset, index_list_for_dataset, date_diff_list\n",
        "    \n",
        "    "
      ]
    },
    {
      "cell_type": "code",
      "execution_count": 13,
      "metadata": {},
      "outputs": [],
      "source": [
        "# Ça met 50 secondes environ\n",
        "X_train_list, Y_train, Y_train_scalers, station_list_for_dataset, index_list_for_dataset, date_diff_list= create_dataset(df_param_all, df_i2M2, list_fraction_param)\n"
      ]
    },
    {
      "cell_type": "code",
      "execution_count": 14,
      "metadata": {},
      "outputs": [
        {
          "name": "stdout",
          "output_type": "stream",
          "text": [
            "Max date diff: 4891\n",
            "Median date diff: 27.0\n",
            "IQR date diff: 49.0\n"
          ]
        }
      ],
      "source": [
        "max_date_diff = max(date_diff_list)\n",
        "median_date_diff = np.median(date_diff_list)\n",
        "print(\"Max date diff:\", max_date_diff)\n",
        "print(\"Median date diff:\", median_date_diff)\n",
        "IQR_date_diff = np.subtract(*np.percentile(date_diff_list, [75, 25]))\n",
        "print(\"IQR date diff:\", IQR_date_diff)\n"
      ]
    },
    {
      "cell_type": "code",
      "execution_count": 15,
      "metadata": {},
      "outputs": [
        {
          "data": {
            "image/png": "[encoded data removed]",
            "text/plain": [
              "<Figure size 1000x600 with 1 Axes>"
            ]
          },
          "metadata": {},
          "output_type": "display_data"
        }
      ],
      "source": [
        "# Initialize lists to store values\n",
        "values_nitrates = []\n",
        "values_ammonium = []\n",
        "values_phosphore_total = []\n",
        "\n",
        "for index in all_index_list:\n",
        "    param = df_param_all.loc[index, 'Value'][0]\n",
        "\n",
        "    if index[3] == param_name[0]:  # 'Nitrates'\n",
        "        values_nitrates.extend([float(value) for value in param])\n",
        "\n",
        "    elif index[3] == param_name[1]:  # 'Ammonium'\n",
        "        values_ammonium.extend([float(value) for value in param])\n",
        "\n",
        "    elif index[3] == param_name[2]:  # 'Phosphore total'\n",
        "        values_phosphore_total.extend([float(value) for value in param])\n",
        "\n",
        "median_nitrates = np.median(values_nitrates)\n",
        "median_ammonium = np.median(values_ammonium)\n",
        "median_phosphore_total = np.median(values_phosphore_total)\n",
        "\n",
        "IQR_nitrates = np.subtract(*np.percentile(values_nitrates, [75, 25]))\n",
        "IQR_ammonium = np.subtract(*np.percentile(values_ammonium, [75, 25]))\n",
        "IQR_phosphore_total = np.subtract(*np.percentile(values_phosphore_total, [75, 25]))\n",
        "\n",
        "median_dict_param = {'Nitrates':median_nitrates, 'Ammonium':median_ammonium, 'Phosphore total':median_phosphore_total}\n",
        "IQR_dict_param = {'Nitrates':IQR_nitrates, 'Ammonium':IQR_ammonium, 'Phosphore total':IQR_phosphore_total}\n",
        "\n",
        "# Plotting the boxplots\n",
        "plt.figure(figsize=(10, 6))\n",
        "plt.boxplot([values_nitrates, values_ammonium, values_phosphore_total, date_diff_list], labels=param_name[:4])\n",
        "plt.title(\"Boxplots for Nitrates, Ammonium, and Phosphore Total\")\n",
        "plt.ylabel(\"Values\")\n",
        "plt.show()\n"
      ]
    },
    {
      "cell_type": "code",
      "execution_count": 16,
      "metadata": {},
      "outputs": [
        {
          "data": {
            "image/png": "[encoded data removed]",
            "text/plain": [
              "<Figure size 1000x600 with 1 Axes>"
            ]
          },
          "metadata": {},
          "output_type": "display_data"
        }
      ],
      "source": [
        "# Initialize lists to store values\n",
        "values_nitrates = []\n",
        "values_ammonium = []\n",
        "values_phosphore_total = []\n",
        "\n",
        "for index in all_index_list:\n",
        "    param = df_param_all.loc[index, 'Value'][0]\n",
        "\n",
        "    if index[3] == param_name[0]:  # 'Nitrates'\n",
        "        values_nitrates.extend([float(value) for value in param])\n",
        "\n",
        "    elif index[3] == param_name[1]:  # 'Ammonium'\n",
        "        values_ammonium.extend([float(value) for value in param])\n",
        "\n",
        "    elif index[3] == param_name[2]:  # 'Phosphore total'\n",
        "        values_phosphore_total.extend([float(value) for value in param])\n",
        "\n",
        "# Plotting the boxplots without outliers\n",
        "plt.figure(figsize=(10, 6))\n",
        "plt.boxplot([values_nitrates, values_ammonium, values_phosphore_total, date_diff_list], labels=param_name[:4], showfliers=False)\n",
        "plt.title(\"Boxplots for Nitrates, Ammonium, and Phosphore Total (without outliers)\")\n",
        "plt.ylabel(\"Values\")\n",
        "plt.show()\n"
      ]
    },
    {
      "cell_type": "code",
      "execution_count": 17,
      "metadata": {},
      "outputs": [
        {
          "data": {
            "image/png": "[encoded data removed]",
            "text/plain": [
              "<Figure size 1000x600 with 1 Axes>"
            ]
          },
          "metadata": {},
          "output_type": "display_data"
        }
      ],
      "source": [
        "# Initialize lists to store values\n",
        "values_nitrates_scaled = (np.array(values_nitrates, dtype=float) - median_dict_param['Nitrates']) / IQR_nitrates\n",
        "values_ammonium_scaled = (np.array(values_ammonium, dtype=float) - median_dict_param['Ammonium']) / IQR_ammonium\n",
        "values_phosphore_total_scaled = (np.array(values_phosphore_total, dtype=float) - median_dict_param['Phosphore total']) / IQR_phosphore_total\n",
        "date_diff_list_scaled = (np.array(date_diff_list, dtype=float) - median_date_diff) / IQR_date_diff\n",
        "\n",
        "# Plotting the boxplots without outliers\n",
        "plt.figure(figsize=(10, 6))\n",
        "plt.boxplot([values_nitrates_scaled , values_ammonium_scaled, values_phosphore_total_scaled, date_diff_list_scaled], labels=param_name[:4], showfliers=False)\n",
        "plt.title(\"Boxplots for Nitrates, Ammonium, and Phosphore Total (without outliers)\")\n",
        "plt.ylabel(\"Values\")\n",
        "plt.show()"
      ]
    },
    {
      "cell_type": "markdown",
      "metadata": {},
      "source": [
        "#### Analyse des param mesurés sur les staions"
      ]
    },
    {
      "cell_type": "code",
      "execution_count": null,
      "metadata": {},
      "outputs": [
        {
          "name": "stdout",
          "output_type": "stream",
          "text": [
            "Taux de présence de Nitrates: 0.984594014395757\n",
            "Taux de présence de Ammonium: 0.9703245359262533\n",
            "Taux de présence de Phosphore Total: 0.9958328071726228\n"
          ]
        }
      ],
      "source": [
        "nitrates_present_list = []\n",
        "ammonium_present_list = []\n",
        "phosphore_total_present_list = []\n",
        "\n",
        "for station in dict_station_to_list_index_param:\n",
        "    station_index = dict_station_to_list_index_param[station] \n",
        "\n",
        "    nitrates_present = 0\n",
        "    ammonium_present = 0\n",
        "    phosphore_total_present = 0\n",
        "    for index in station_index:\n",
        "        if index[3] == param_name[0] and index[2] == \"Phase aqueuse de l'eau (filtrée, centrifugée...)\":\n",
        "            nitrates_present = 1\n",
        "        elif index[3] == param_name[1] and index[2] == \"Phase aqueuse de l'eau (filtrée, centrifugée...)\":\n",
        "            ammonium_present = 1\n",
        "        elif index[3] == param_name[2] and index[2] == \"Eau brute\":\n",
        "            phosphore_total_present = 1\n",
        "    nitrates_present_list.append(nitrates_present)\n",
        "    ammonium_present_list.append(ammonium_present)\n",
        "    phosphore_total_present_list.append(phosphore_total_present)\n",
        "\n",
        "#print taux param\n",
        "    \n",
        "print(\"Taux de présence de Nitrates:\", sum(nitrates_present_list) / len(nitrates_present_list))\n",
        "print(\"Taux de présence de Ammonium:\", sum(ammonium_present_list) / len(ammonium_present_list))\n",
        "print(\"Taux de présence de Phosphore Total:\", sum(phosphore_total_present_list) / len(phosphore_total_present_list))\n",
        "\n",
        "        "
      ]
    },
    {
      "cell_type": "markdown",
      "metadata": {},
      "source": [
        "#### Pour le scaling on va juste ajuster les valeurs tels que le maximum des paramètres se retrouvent à 1"
      ]
    },
    {
      "cell_type": "code",
      "execution_count": 19,
      "metadata": {},
      "outputs": [],
      "source": [
        "def compute_empty_input_stats(X_train_list):\n",
        "    param_order = ['Nitrates', 'Ammonium', 'Phosphore total']\n",
        "\n",
        "    empty_counts = {param: 0 for param in param_order}\n",
        "    total_counts = {param: 0 for param in param_order}\n",
        "\n",
        "    for station_data in X_train_list:\n",
        "        for date_data in station_data:\n",
        "            for i, param in enumerate(param_order):\n",
        "                # Each parameter has 5 input values in your structure\n",
        "                current_index = date_data[i * 5:(i + 1) * 5]\n",
        "\n",
        "                # Check if all values for this parameter are None\n",
        "                if all(v is None for v in current_index):\n",
        "                    empty_counts[param] += 1\n",
        "\n",
        "                total_counts[param] += 1\n",
        "\n",
        "    # Calculating the percentage of empty inputs\n",
        "    empty_number = {param: empty_counts[param] for param in param_order}\n",
        "\n",
        "    return empty_number\n",
        "\n"
      ]
    },
    {
      "cell_type": "code",
      "execution_count": 20,
      "metadata": {},
      "outputs": [
        {
          "name": "stderr",
          "output_type": "stream",
          "text": [
            "Processing combinations:   0%|          | 0/20 [00:03<?, ?it/s]\n"
          ]
        },
        {
          "ename": "KeyboardInterrupt",
          "evalue": "",
          "output_type": "error",
          "traceback": [
            "\u001b[0;31m---------------------------------------------------------------------------\u001b[0m",
            "\u001b[0;31mKeyboardInterrupt\u001b[0m                         Traceback (most recent call last)",
            "Cell \u001b[0;32mIn[20], line 4\u001b[0m\n\u001b[1;32m      2\u001b[0m \u001b[38;5;28;01mfor\u001b[39;00m combination \u001b[38;5;129;01min\u001b[39;00m tqdm(feature_combinations, desc\u001b[38;5;241m=\u001b[39m\u001b[38;5;124m\"\u001b[39m\u001b[38;5;124mProcessing combinations\u001b[39m\u001b[38;5;124m\"\u001b[39m):\n\u001b[1;32m      3\u001b[0m     list_fraction_param \u001b[38;5;241m=\u001b[39m combination[\u001b[38;5;241m1\u001b[39m]\n\u001b[0;32m----> 4\u001b[0m     X_train_list_test, Y_train, Y_train_scalers, station_list_for_dataset, index_list_for_dataset, date_diff_list\u001b[38;5;241m=\u001b[39m \u001b[43mcreate_dataset\u001b[49m\u001b[43m(\u001b[49m\u001b[43mdf_param_all\u001b[49m\u001b[43m,\u001b[49m\u001b[43m \u001b[49m\u001b[43mdf_i2M2\u001b[49m\u001b[43m,\u001b[49m\u001b[43m \u001b[49m\u001b[43mlist_fraction_param\u001b[49m\u001b[43m)\u001b[49m\n\u001b[1;32m      5\u001b[0m     \u001b[38;5;28mprint\u001b[39m(\u001b[38;5;124m\"\u001b[39m\u001b[38;5;124m fractions: \u001b[39m\u001b[38;5;124m\"\u001b[39m, list_fraction_param)\n\u001b[1;32m      6\u001b[0m     empty_number \u001b[38;5;241m=\u001b[39m compute_empty_input_stats(X_train_list_test)\n",
            "Cell \u001b[0;32mIn[12], line 90\u001b[0m, in \u001b[0;36mcreate_dataset\u001b[0;34m(df_param, df_i2M2, list_fraction_param_arg)\u001b[0m\n\u001b[1;32m     86\u001b[0m filtered_values \u001b[38;5;241m=\u001b[39m [value \u001b[38;5;28;01mfor\u001b[39;00m value, d \u001b[38;5;129;01min\u001b[39;00m \u001b[38;5;28mzip\u001b[39m(param_time_series_values_scaled, param_time_series_dates) \n\u001b[1;32m     87\u001b[0m         \u001b[38;5;28;01mif\u001b[39;00m one_year_earlier \u001b[38;5;241m<\u001b[39m\u001b[38;5;241m=\u001b[39m pd\u001b[38;5;241m.\u001b[39mto_datetime(d) \u001b[38;5;241m<\u001b[39m\u001b[38;5;241m=\u001b[39m date_datetime]\n\u001b[1;32m     89\u001b[0m \u001b[38;5;28;01mif\u001b[39;00m \u001b[38;5;28mlen\u001b[39m(filtered_values) \u001b[38;5;241m!=\u001b[39m \u001b[38;5;241m0\u001b[39m:\n\u001b[0;32m---> 90\u001b[0m     min_value \u001b[38;5;241m=\u001b[39m \u001b[43mnp\u001b[49m\u001b[38;5;241;43m.\u001b[39;49m\u001b[43mmin\u001b[49m\u001b[43m(\u001b[49m\u001b[43mfiltered_values\u001b[49m\u001b[43m)\u001b[49m\u001b[38;5;241m.\u001b[39mitem()\n\u001b[1;32m     91\u001b[0m     max_value \u001b[38;5;241m=\u001b[39m np\u001b[38;5;241m.\u001b[39mmax(filtered_values)\u001b[38;5;241m.\u001b[39mitem()\n\u001b[1;32m     92\u001b[0m     moy_value \u001b[38;5;241m=\u001b[39m np\u001b[38;5;241m.\u001b[39mmean(filtered_values)\u001b[38;5;241m.\u001b[39mitem()\n",
            "File \u001b[0;32m~/Documents/cours/3A/Cours_d_eau/Projet-cours-d-eau/Projet-cours-d-eau/.venv/lib/python3.10/site-packages/numpy/core/fromnumeric.py:2953\u001b[0m, in \u001b[0;36mmin\u001b[0;34m(a, axis, out, keepdims, initial, where)\u001b[0m\n\u001b[1;32m   2836\u001b[0m \u001b[38;5;129m@array_function_dispatch\u001b[39m(_min_dispatcher)\n\u001b[1;32m   2837\u001b[0m \u001b[38;5;28;01mdef\u001b[39;00m \u001b[38;5;21mmin\u001b[39m(a, axis\u001b[38;5;241m=\u001b[39m\u001b[38;5;28;01mNone\u001b[39;00m, out\u001b[38;5;241m=\u001b[39m\u001b[38;5;28;01mNone\u001b[39;00m, keepdims\u001b[38;5;241m=\u001b[39mnp\u001b[38;5;241m.\u001b[39m_NoValue, initial\u001b[38;5;241m=\u001b[39mnp\u001b[38;5;241m.\u001b[39m_NoValue,\n\u001b[1;32m   2838\u001b[0m         where\u001b[38;5;241m=\u001b[39mnp\u001b[38;5;241m.\u001b[39m_NoValue):\n\u001b[1;32m   2839\u001b[0m \u001b[38;5;250m    \u001b[39m\u001b[38;5;124;03m\"\"\"\u001b[39;00m\n\u001b[1;32m   2840\u001b[0m \u001b[38;5;124;03m    Return the minimum of an array or minimum along an axis.\u001b[39;00m\n\u001b[1;32m   2841\u001b[0m \n\u001b[0;32m   (...)\u001b[0m\n\u001b[1;32m   2951\u001b[0m \u001b[38;5;124;03m    6\u001b[39;00m\n\u001b[1;32m   2952\u001b[0m \u001b[38;5;124;03m    \"\"\"\u001b[39;00m\n\u001b[0;32m-> 2953\u001b[0m     \u001b[38;5;28;01mreturn\u001b[39;00m \u001b[43m_wrapreduction\u001b[49m\u001b[43m(\u001b[49m\u001b[43ma\u001b[49m\u001b[43m,\u001b[49m\u001b[43m \u001b[49m\u001b[43mnp\u001b[49m\u001b[38;5;241;43m.\u001b[39;49m\u001b[43mminimum\u001b[49m\u001b[43m,\u001b[49m\u001b[43m \u001b[49m\u001b[38;5;124;43m'\u001b[39;49m\u001b[38;5;124;43mmin\u001b[39;49m\u001b[38;5;124;43m'\u001b[39;49m\u001b[43m,\u001b[49m\u001b[43m \u001b[49m\u001b[43maxis\u001b[49m\u001b[43m,\u001b[49m\u001b[43m \u001b[49m\u001b[38;5;28;43;01mNone\u001b[39;49;00m\u001b[43m,\u001b[49m\u001b[43m \u001b[49m\u001b[43mout\u001b[49m\u001b[43m,\u001b[49m\n\u001b[1;32m   2954\u001b[0m \u001b[43m                          \u001b[49m\u001b[43mkeepdims\u001b[49m\u001b[38;5;241;43m=\u001b[39;49m\u001b[43mkeepdims\u001b[49m\u001b[43m,\u001b[49m\u001b[43m \u001b[49m\u001b[43minitial\u001b[49m\u001b[38;5;241;43m=\u001b[39;49m\u001b[43minitial\u001b[49m\u001b[43m,\u001b[49m\u001b[43m \u001b[49m\u001b[43mwhere\u001b[49m\u001b[38;5;241;43m=\u001b[39;49m\u001b[43mwhere\u001b[49m\u001b[43m)\u001b[49m\n",
            "File \u001b[0;32m~/Documents/cours/3A/Cours_d_eau/Projet-cours-d-eau/Projet-cours-d-eau/.venv/lib/python3.10/site-packages/numpy/core/fromnumeric.py:88\u001b[0m, in \u001b[0;36m_wrapreduction\u001b[0;34m(obj, ufunc, method, axis, dtype, out, **kwargs)\u001b[0m\n\u001b[1;32m     85\u001b[0m         \u001b[38;5;28;01melse\u001b[39;00m:\n\u001b[1;32m     86\u001b[0m             \u001b[38;5;28;01mreturn\u001b[39;00m reduction(axis\u001b[38;5;241m=\u001b[39maxis, out\u001b[38;5;241m=\u001b[39mout, \u001b[38;5;241m*\u001b[39m\u001b[38;5;241m*\u001b[39mpasskwargs)\n\u001b[0;32m---> 88\u001b[0m \u001b[38;5;28;01mreturn\u001b[39;00m \u001b[43mufunc\u001b[49m\u001b[38;5;241;43m.\u001b[39;49m\u001b[43mreduce\u001b[49m\u001b[43m(\u001b[49m\u001b[43mobj\u001b[49m\u001b[43m,\u001b[49m\u001b[43m \u001b[49m\u001b[43maxis\u001b[49m\u001b[43m,\u001b[49m\u001b[43m \u001b[49m\u001b[43mdtype\u001b[49m\u001b[43m,\u001b[49m\u001b[43m \u001b[49m\u001b[43mout\u001b[49m\u001b[43m,\u001b[49m\u001b[43m \u001b[49m\u001b[38;5;241;43m*\u001b[39;49m\u001b[38;5;241;43m*\u001b[39;49m\u001b[43mpasskwargs\u001b[49m\u001b[43m)\u001b[49m\n",
            "\u001b[0;31mKeyboardInterrupt\u001b[0m: "
          ]
        }
      ],
      "source": [
        "min_empty = np.inf\n",
        "for combination in tqdm(feature_combinations, desc=\"Processing combinations\"):\n",
        "    list_fraction_param = combination[1]\n",
        "    X_train_list_test, Y_train, Y_train_scalers, station_list_for_dataset, index_list_for_dataset, date_diff_list= create_dataset(df_param_all, df_i2M2, list_fraction_param)\n",
        "    print(\" fractions: \", list_fraction_param)\n",
        "    empty_number = compute_empty_input_stats(X_train_list_test)\n",
        "\n",
        "    empty_number_sum = sum(empty_number.values())\n",
        "    if empty_number_sum < min_empty:\n",
        "        min_empty = empty_number_sum\n",
        "        min_empty_fraction = list_fraction_param\n",
        "        min_empty_number = empty_number\n",
        "\n",
        "print(\"Sum empty parameters:\", min_empty_number)\n",
        "print(\"Min empty fraction:\", min_empty_fraction)\n",
        "\n",
        "    \n",
        "    "
      ]
    },
    {
      "cell_type": "code",
      "execution_count": null,
      "metadata": {},
      "outputs": [],
      "source": [
        "i = 0\n",
        "stop = False\n",
        "for x in X_train_list:\n",
        "    j=0\n",
        "    for input in x:\n",
        "        if np.any(np.isnan(input)):\n",
        "            print(f\"NaN dans la liste X {i}, input {j}: \",input)\n",
        "            stop = True\n",
        "            break\n",
        "        if np.any(np.isinf(input)):\n",
        "            print(f\"Inf dans la liste {i}, input {j}: \",input)\n",
        "            stop = True\n",
        "            break\n",
        "        j+=1\n",
        "        \n",
        "    i+=1\n",
        "    if stop:\n",
        "        break\n",
        "    \n",
        "k = 0\n",
        "for y in Y_train:\n",
        "    if np.any(np.isnan(y)):\n",
        "        print(f\"Nan dans la liste Y {i}:\", np.any(np.isnan(y)))\n",
        "        break\n",
        "    if np.any(np.isinf(y)):\n",
        "        print(\"Inf dans la liste Y {i}:\", np.any(np.isinf(y)))\n",
        "        break\n",
        "    k+=1"
      ]
    },
    {
      "cell_type": "code",
      "execution_count": null,
      "metadata": {},
      "outputs": [
        {
          "name": "stdout",
          "output_type": "stream",
          "text": [
            "X_train example:  [None, None, None, None, None, None, None, None, None, None, 0.01098901098901099, 0.0, 2.830188679245283e-06, 0.0, 9.119496855345912e-07, 'CAUSSES AQUITAINS']\n"
          ]
        }
      ],
      "source": [
        "print(\"X_train example: \", X_train_list[0][0])"
      ]
    }
  ],
  "metadata": {
    "colab": {
      "provenance": []
    },
    "kernelspec": {
      "display_name": "Python 3",
      "language": "python",
      "name": "python3"
    },
    "language_info": {
      "codemirror_mode": {
        "name": "ipython",
        "version": 3
      },
      "file_extension": ".py",
      "mimetype": "text/x-python",
      "name": "python",
      "nbconvert_exporter": "python",
      "pygments_lexer": "ipython3",
      "version": "3.10.12"
    },
    "orig_nbformat": 4
  },
  "nbformat": 4,
  "nbformat_minor": 0
}
